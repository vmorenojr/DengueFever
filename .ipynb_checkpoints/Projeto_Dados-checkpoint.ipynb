{
 "cells": [
  {
   "cell_type": "markdown",
   "metadata": {
    "collapsed": true
   },
   "source": [
    "# Preparação de dados"
   ]
  },
  {
   "cell_type": "markdown",
   "metadata": {},
   "source": [
    "## Importação de módulos"
   ]
  },
  {
   "cell_type": "code",
   "execution_count": 1,
   "metadata": {},
   "outputs": [
    {
     "ename": "ModuleNotFoundError",
     "evalue": "No module named 'matplotlib'",
     "output_type": "error",
     "traceback": [
      "\u001b[0;31m---------------------------------------------------------------------------\u001b[0m",
      "\u001b[0;31mModuleNotFoundError\u001b[0m                       Traceback (most recent call last)",
      "\u001b[0;32m<ipython-input-1-aa53e5c9a3d1>\u001b[0m in \u001b[0;36m<module>\u001b[0;34m()\u001b[0m\n\u001b[1;32m      2\u001b[0m \u001b[0;32mimport\u001b[0m \u001b[0mpandas\u001b[0m \u001b[0;32mas\u001b[0m \u001b[0mpd\u001b[0m\u001b[0;34m\u001b[0m\u001b[0;34m\u001b[0m\u001b[0m\n\u001b[1;32m      3\u001b[0m \u001b[0;32mimport\u001b[0m \u001b[0mnumpy\u001b[0m \u001b[0;32mas\u001b[0m \u001b[0mnp\u001b[0m\u001b[0;34m\u001b[0m\u001b[0;34m\u001b[0m\u001b[0m\n\u001b[0;32m----> 4\u001b[0;31m \u001b[0;32mimport\u001b[0m \u001b[0mmatplotlib\u001b[0m\u001b[0;34m\u001b[0m\u001b[0;34m\u001b[0m\u001b[0m\n\u001b[0m\u001b[1;32m      5\u001b[0m \u001b[0;32mimport\u001b[0m \u001b[0mmatplotlib\u001b[0m\u001b[0;34m.\u001b[0m\u001b[0mpyplot\u001b[0m \u001b[0;32mas\u001b[0m \u001b[0mplt\u001b[0m\u001b[0;34m\u001b[0m\u001b[0;34m\u001b[0m\u001b[0m\n\u001b[1;32m      6\u001b[0m \u001b[0mget_ipython\u001b[0m\u001b[0;34m(\u001b[0m\u001b[0;34m)\u001b[0m\u001b[0;34m.\u001b[0m\u001b[0mmagic\u001b[0m\u001b[0;34m(\u001b[0m\u001b[0;34m'matplotlib inline'\u001b[0m\u001b[0;34m)\u001b[0m\u001b[0;34m\u001b[0m\u001b[0;34m\u001b[0m\u001b[0m\n",
      "\u001b[0;31mModuleNotFoundError\u001b[0m: No module named 'matplotlib'"
     ]
    }
   ],
   "source": [
    "import datetime as dt\n",
    "import pandas as pd\n",
    "import numpy as np\n",
    "import matplotlib\n",
    "import matplotlib.pyplot as plt\n",
    "%matplotlib inline\n",
    "import seaborn as sns\n",
    "sns.set_context(\"talk\")\n",
    "sns.set_style(\"white\")\n",
    "\n",
    "from IPython.display import HTML\n",
    "import urllib\n",
    "import bs4 #this is beautiful soup\n",
    "import re # regular expressions"
   ]
  },
  {
   "cell_type": "markdown",
   "metadata": {},
   "source": [
    "## Leitura dos dados"
   ]
  },
  {
   "cell_type": "code",
   "execution_count": 57,
   "metadata": {},
   "outputs": [],
   "source": [
    "dados = pd.read_csv('dengue_capitais.csv.gz')"
   ]
  },
  {
   "cell_type": "code",
   "execution_count": 58,
   "metadata": {},
   "outputs": [
    {
     "data": {
      "text/html": [
       "<div>\n",
       "<style scoped>\n",
       "    .dataframe tbody tr th:only-of-type {\n",
       "        vertical-align: middle;\n",
       "    }\n",
       "\n",
       "    .dataframe tbody tr th {\n",
       "        vertical-align: top;\n",
       "    }\n",
       "\n",
       "    .dataframe thead th {\n",
       "        text-align: right;\n",
       "    }\n",
       "</style>\n",
       "<table border=\"1\" class=\"dataframe\">\n",
       "  <thead>\n",
       "    <tr style=\"text-align: right;\">\n",
       "      <th></th>\n",
       "      <th>dt_notificacao</th>\n",
       "      <th>co_cid</th>\n",
       "      <th>co_municipio_notificacao</th>\n",
       "      <th>co_municipio_residencia</th>\n",
       "      <th>dt_diagnostico_sintoma</th>\n",
       "      <th>dt_digitacao</th>\n",
       "    </tr>\n",
       "  </thead>\n",
       "  <tbody>\n",
       "    <tr>\n",
       "      <th>0</th>\n",
       "      <td>2012-12-27 00:00:00</td>\n",
       "      <td>A90</td>\n",
       "      <td>110020</td>\n",
       "      <td>110020</td>\n",
       "      <td>2012-12-21 00:00:00</td>\n",
       "      <td>2013-02-22 00:00:00</td>\n",
       "    </tr>\n",
       "    <tr>\n",
       "      <th>1</th>\n",
       "      <td>2013-01-14 00:00:00</td>\n",
       "      <td>A90</td>\n",
       "      <td>110020</td>\n",
       "      <td>110020</td>\n",
       "      <td>2013-01-01 00:00:00</td>\n",
       "      <td>2013-02-22 00:00:00</td>\n",
       "    </tr>\n",
       "    <tr>\n",
       "      <th>2</th>\n",
       "      <td>2013-02-12 00:00:00</td>\n",
       "      <td>A90</td>\n",
       "      <td>500270</td>\n",
       "      <td>500270</td>\n",
       "      <td>2013-02-09 00:00:00</td>\n",
       "      <td>2013-02-23 00:00:00</td>\n",
       "    </tr>\n",
       "    <tr>\n",
       "      <th>3</th>\n",
       "      <td>2013-02-08 00:00:00</td>\n",
       "      <td>A90</td>\n",
       "      <td>520870</td>\n",
       "      <td>520870</td>\n",
       "      <td>2013-02-01 00:00:00</td>\n",
       "      <td>2013-03-01 00:00:00</td>\n",
       "    </tr>\n",
       "    <tr>\n",
       "      <th>4</th>\n",
       "      <td>2013-02-27 00:00:00</td>\n",
       "      <td>A90</td>\n",
       "      <td>431490</td>\n",
       "      <td>431490</td>\n",
       "      <td>2013-02-26 00:00:00</td>\n",
       "      <td>2013-02-27 00:00:00</td>\n",
       "    </tr>\n",
       "  </tbody>\n",
       "</table>\n",
       "</div>"
      ],
      "text/plain": [
       "        dt_notificacao co_cid  co_municipio_notificacao  \\\n",
       "0  2012-12-27 00:00:00    A90                    110020   \n",
       "1  2013-01-14 00:00:00    A90                    110020   \n",
       "2  2013-02-12 00:00:00    A90                    500270   \n",
       "3  2013-02-08 00:00:00    A90                    520870   \n",
       "4  2013-02-27 00:00:00    A90                    431490   \n",
       "\n",
       "   co_municipio_residencia dt_diagnostico_sintoma         dt_digitacao  \n",
       "0                   110020    2012-12-21 00:00:00  2013-02-22 00:00:00  \n",
       "1                   110020    2013-01-01 00:00:00  2013-02-22 00:00:00  \n",
       "2                   500270    2013-02-09 00:00:00  2013-02-23 00:00:00  \n",
       "3                   520870    2013-02-01 00:00:00  2013-03-01 00:00:00  \n",
       "4                   431490    2013-02-26 00:00:00  2013-02-27 00:00:00  "
      ]
     },
     "execution_count": 58,
     "metadata": {},
     "output_type": "execute_result"
    }
   ],
   "source": [
    "dados.head()"
   ]
  },
  {
   "cell_type": "code",
   "execution_count": 59,
   "metadata": {},
   "outputs": [
    {
     "data": {
      "text/plain": [
       "dt_notificacao              object\n",
       "co_cid                      object\n",
       "co_municipio_notificacao     int64\n",
       "co_municipio_residencia      int64\n",
       "dt_diagnostico_sintoma      object\n",
       "dt_digitacao                object\n",
       "dtype: object"
      ]
     },
     "execution_count": 59,
     "metadata": {},
     "output_type": "execute_result"
    }
   ],
   "source": [
    "dados.dtypes"
   ]
  },
  {
   "cell_type": "code",
   "execution_count": 121,
   "metadata": {},
   "outputs": [
    {
     "data": {
      "text/plain": [
       "dt_notificacao                 0\n",
       "co_cid                         0\n",
       "co_municipio_notificacao       0\n",
       "co_municipio_residencia        0\n",
       "dt_diagnostico_sintoma         8\n",
       "dt_digitacao                8335\n",
       "dtype: int64"
      ]
     },
     "execution_count": 121,
     "metadata": {},
     "output_type": "execute_result"
    }
   ],
   "source": [
    "dados.isnull().sum()"
   ]
  },
  {
   "cell_type": "markdown",
   "metadata": {},
   "source": [
    "### Problema:\n",
    "O que fazer com os dados omitidos? Usar a data de notificação?"
   ]
  },
  {
   "cell_type": "code",
   "execution_count": 96,
   "metadata": {},
   "outputs": [
    {
     "name": "stdout",
     "output_type": "stream",
     "text": [
      "<class 'list'> 2055 <class 'list'> 28\n"
     ]
    }
   ],
   "source": [
    "municipios = sorted(dados.co_municipio_notificacao.unique().tolist())\n",
    "residencias = sorted(dados.co_municipio_residencia.unique().tolist())\n",
    "\n",
    "print(type(municipios), len(municipios), type(residencias), len(residencias))"
   ]
  },
  {
   "cell_type": "markdown",
   "metadata": {},
   "source": [
    "### Problema: \n",
    "Temos 2055 municípios de notificação e apenas 28 de residência"
   ]
  },
  {
   "cell_type": "code",
   "execution_count": 81,
   "metadata": {},
   "outputs": [],
   "source": [
    "data_notificacao = pd.to_datetime(dados.dt_notificacao, format = '%Y-%m-%d %H:%M:%S')\n",
    "data_diagnostico = pd.to_datetime(dados.dt_diagnostico_sintoma, format = '%Y-%m-%d %H:%M:%S')\n",
    "data_digitacao = pd.to_datetime(dados.dt_digitacao, format = '%Y-%m-%d %H:%M:%S')"
   ]
  },
  {
   "cell_type": "code",
   "execution_count": 98,
   "metadata": {},
   "outputs": [],
   "source": [
    "ano_notificacao = data_notificacao.dt.year\n",
    "semana_notificacao = data_notificacao.dt.week"
   ]
  },
  {
   "cell_type": "code",
   "execution_count": 99,
   "metadata": {},
   "outputs": [],
   "source": [
    "ano_diagnostico = data_diagnostico.dt.year\n",
    "semana_diagnostico = data_diagnostico.dt.week"
   ]
  },
  {
   "cell_type": "code",
   "execution_count": 100,
   "metadata": {},
   "outputs": [],
   "source": [
    "ano_digitacao = data_digitacao.dt.year\n",
    "semana_digitacao = data_digitacao.dt.week"
   ]
  },
  {
   "cell_type": "code",
   "execution_count": 108,
   "metadata": {},
   "outputs": [],
   "source": [
    "dengue = {'ano_notificacao': ano_notificacao, \n",
    "          'semana_notificacao': semana_notificacao,\n",
    "          'ano_diagnostico': ano_digitacao,\n",
    "          'semana_diagnostico': semana_diagnostico,\n",
    "          'ano_digitacao': ano_digitacao,\n",
    "          'semana_digitacao': semana_digitacao,\n",
    "          'municipio': dados.co_municipio_notificacao,\n",
    "          'residencia': dados.co_municipio_residencia}"
   ]
  },
  {
   "cell_type": "code",
   "execution_count": 119,
   "metadata": {},
   "outputs": [
    {
     "data": {
      "text/plain": [
       "array([2012., 2013., 2007., 2006., 2014., 2015., 1983., 2018., 2019.,\n",
       "       1988., 2001., 2016., 2017., 2004., 2009., 2008., 2005., 2010.,\n",
       "       2011., 1941., 1987., 1974., 1971., 1929., 1950., 2000., 1964.,\n",
       "       2003., 1981., 1966., 1999., 1980., 1977., 1952., 1985., 1978.,\n",
       "       1997., 1956., 1990., 1992., 1945., 1975., 1994., 1996., 1993.,\n",
       "       1986., 1989., 1967., 2002., 1991., 1955., 1972., 1973., 1961.,\n",
       "       1979., 1984., 1940., 1960., 1969., 1934., 1995., 1954., 1976.,\n",
       "       1968., 1970., 1982., 1947., 1998., 1944., 1949., 1951., 1936.,\n",
       "       1958., 1965., 1927., 1963., 1962., 1959., 1957., 1938., 1946.,\n",
       "       1948., 1953., 1943., 1937., 1931.,   nan, 1942., 1939., 1935.,\n",
       "       1932., 1926., 1915., 1922., 1911., 1933., 1923., 1921.])"
      ]
     },
     "execution_count": 119,
     "metadata": {},
     "output_type": "execute_result"
    }
   ],
   "source": [
    "ano_diagnostico.unique()"
   ]
  },
  {
   "cell_type": "code",
   "execution_count": 115,
   "metadata": {},
   "outputs": [
    {
     "data": {
      "text/plain": [
       "array([51.,  1.,  6.,  5.,  9.,  3.,  4.,  8.,  7., 40.,  2., 12., 10.,\n",
       "       42., 11., 23., 33., 35., 19., 31., 32., 21., 15., 18., 43., 45.,\n",
       "       29., 14., 44., 41., 48., 47., 22., 49., 27., 46., 50., 13., 28.,\n",
       "       16., 17., 38., 34., 36., 37., 20., 52., 53., 24., 39., 30., 26.,\n",
       "       25., nan])"
      ]
     },
     "execution_count": 115,
     "metadata": {},
     "output_type": "execute_result"
    }
   ],
   "source": [
    "semana_diagnostico.unique()"
   ]
  },
  {
   "cell_type": "code",
   "execution_count": 116,
   "metadata": {},
   "outputs": [
    {
     "data": {
      "text/plain": [
       "array([2013., 2007., 2014., 2015., 2018., 2019., 2012., 2016., 2017.,\n",
       "         nan, 2009., 2008., 2010., 2011., 2025., 2024., 2020., 2021.])"
      ]
     },
     "execution_count": 116,
     "metadata": {},
     "output_type": "execute_result"
    }
   ],
   "source": [
    "ano_digitacao.unique()"
   ]
  },
  {
   "cell_type": "code",
   "execution_count": 109,
   "metadata": {},
   "outputs": [
    {
     "data": {
      "text/html": [
       "<div>\n",
       "<style scoped>\n",
       "    .dataframe tbody tr th:only-of-type {\n",
       "        vertical-align: middle;\n",
       "    }\n",
       "\n",
       "    .dataframe tbody tr th {\n",
       "        vertical-align: top;\n",
       "    }\n",
       "\n",
       "    .dataframe thead th {\n",
       "        text-align: right;\n",
       "    }\n",
       "</style>\n",
       "<table border=\"1\" class=\"dataframe\">\n",
       "  <thead>\n",
       "    <tr style=\"text-align: right;\">\n",
       "      <th></th>\n",
       "      <th>ano_notificacao</th>\n",
       "      <th>semana_notificacao</th>\n",
       "      <th>ano_diagnostico</th>\n",
       "      <th>semana_diagnostico</th>\n",
       "      <th>ano_digitacao</th>\n",
       "      <th>semana_digitacao</th>\n",
       "      <th>municipio</th>\n",
       "      <th>residencia</th>\n",
       "    </tr>\n",
       "  </thead>\n",
       "  <tbody>\n",
       "    <tr>\n",
       "      <th>0</th>\n",
       "      <td>2012</td>\n",
       "      <td>52</td>\n",
       "      <td>2013.0</td>\n",
       "      <td>51.0</td>\n",
       "      <td>2013.0</td>\n",
       "      <td>8.0</td>\n",
       "      <td>110020</td>\n",
       "      <td>110020</td>\n",
       "    </tr>\n",
       "    <tr>\n",
       "      <th>1</th>\n",
       "      <td>2013</td>\n",
       "      <td>3</td>\n",
       "      <td>2013.0</td>\n",
       "      <td>1.0</td>\n",
       "      <td>2013.0</td>\n",
       "      <td>8.0</td>\n",
       "      <td>110020</td>\n",
       "      <td>110020</td>\n",
       "    </tr>\n",
       "    <tr>\n",
       "      <th>2</th>\n",
       "      <td>2013</td>\n",
       "      <td>7</td>\n",
       "      <td>2013.0</td>\n",
       "      <td>6.0</td>\n",
       "      <td>2013.0</td>\n",
       "      <td>8.0</td>\n",
       "      <td>500270</td>\n",
       "      <td>500270</td>\n",
       "    </tr>\n",
       "    <tr>\n",
       "      <th>3</th>\n",
       "      <td>2013</td>\n",
       "      <td>6</td>\n",
       "      <td>2013.0</td>\n",
       "      <td>5.0</td>\n",
       "      <td>2013.0</td>\n",
       "      <td>9.0</td>\n",
       "      <td>520870</td>\n",
       "      <td>520870</td>\n",
       "    </tr>\n",
       "    <tr>\n",
       "      <th>4</th>\n",
       "      <td>2013</td>\n",
       "      <td>9</td>\n",
       "      <td>2013.0</td>\n",
       "      <td>9.0</td>\n",
       "      <td>2013.0</td>\n",
       "      <td>9.0</td>\n",
       "      <td>431490</td>\n",
       "      <td>431490</td>\n",
       "    </tr>\n",
       "  </tbody>\n",
       "</table>\n",
       "</div>"
      ],
      "text/plain": [
       "   ano_notificacao  semana_notificacao  ano_diagnostico  semana_diagnostico  \\\n",
       "0             2012                  52           2013.0                51.0   \n",
       "1             2013                   3           2013.0                 1.0   \n",
       "2             2013                   7           2013.0                 6.0   \n",
       "3             2013                   6           2013.0                 5.0   \n",
       "4             2013                   9           2013.0                 9.0   \n",
       "\n",
       "   ano_digitacao  semana_digitacao  municipio  residencia  \n",
       "0         2013.0               8.0     110020      110020  \n",
       "1         2013.0               8.0     110020      110020  \n",
       "2         2013.0               8.0     500270      500270  \n",
       "3         2013.0               9.0     520870      520870  \n",
       "4         2013.0               9.0     431490      431490  "
      ]
     },
     "execution_count": 109,
     "metadata": {},
     "output_type": "execute_result"
    }
   ],
   "source": [
    "dengue = pd.DataFrame(dengue)\n",
    "dengue.head()"
   ]
  },
  {
   "cell_type": "code",
   "execution_count": 110,
   "metadata": {},
   "outputs": [
    {
     "name": "stdout",
     "output_type": "stream",
     "text": [
      "<class 'pandas.core.frame.DataFrame'>\n",
      "RangeIndex: 3684688 entries, 0 to 3684687\n",
      "Data columns (total 8 columns):\n",
      "ano_notificacao       int64\n",
      "semana_notificacao    int64\n",
      "ano_diagnostico       float64\n",
      "semana_diagnostico    float64\n",
      "ano_digitacao         float64\n",
      "semana_digitacao      float64\n",
      "municipio             int64\n",
      "residencia            int64\n",
      "dtypes: float64(4), int64(4)\n",
      "memory usage: 224.9 MB\n"
     ]
    }
   ],
   "source": [
    "dengue.info()"
   ]
  },
  {
   "cell_type": "code",
   "execution_count": null,
   "metadata": {},
   "outputs": [],
   "source": []
  }
 ],
 "metadata": {
  "kernelspec": {
   "display_name": "Python 3",
   "language": "python",
   "name": "python3"
  },
  "language_info": {
   "codemirror_mode": {
    "name": "ipython",
    "version": 3
   },
   "file_extension": ".py",
   "mimetype": "text/x-python",
   "name": "python",
   "nbconvert_exporter": "python",
   "pygments_lexer": "ipython3",
   "version": "3.6.8"
  }
 },
 "nbformat": 4,
 "nbformat_minor": 2
}
