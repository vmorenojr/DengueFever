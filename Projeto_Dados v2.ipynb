{
  "cells": [
    {
      "metadata": {
        "collapsed": true
      },
      "cell_type": "markdown",
      "source": "# Preparação de dados"
    },
    {
      "metadata": {},
      "cell_type": "markdown",
      "source": "## Importação de módulos"
    },
    {
      "metadata": {
        "trusted": true
      },
      "cell_type": "code",
      "source": "import datetime as dt\nimport pandas as pd\nimport numpy as np\nimport matplotlib\nimport matplotlib.pyplot as plt\n%matplotlib inline\n\n#import seaborn as sns\n#sns.set_context(\"talk\")\n#sns.set_style(\"white\")\n\n#from IPython.display import HTML\n#import urllib\n#import bs4 #this is beautiful soup\n#import re # regular expressions",
      "execution_count": 112,
      "outputs": []
    },
    {
      "metadata": {},
      "cell_type": "markdown",
      "source": "## Leitura dos dados"
    },
    {
      "metadata": {
        "trusted": true
      },
      "cell_type": "code",
      "source": "dados = pd.read_csv('dengue_capitais.csv.gz')",
      "execution_count": 2,
      "outputs": []
    },
    {
      "metadata": {
        "trusted": true
      },
      "cell_type": "code",
      "source": "dados.head()",
      "execution_count": 3,
      "outputs": [
        {
          "output_type": "execute_result",
          "execution_count": 3,
          "data": {
            "text/html": "<div>\n<style scoped>\n    .dataframe tbody tr th:only-of-type {\n        vertical-align: middle;\n    }\n\n    .dataframe tbody tr th {\n        vertical-align: top;\n    }\n\n    .dataframe thead th {\n        text-align: right;\n    }\n</style>\n<table border=\"1\" class=\"dataframe\">\n  <thead>\n    <tr style=\"text-align: right;\">\n      <th></th>\n      <th>dt_notificacao</th>\n      <th>co_cid</th>\n      <th>co_municipio_notificacao</th>\n      <th>co_municipio_residencia</th>\n      <th>dt_diagnostico_sintoma</th>\n      <th>dt_digitacao</th>\n    </tr>\n  </thead>\n  <tbody>\n    <tr>\n      <th>0</th>\n      <td>2012-12-27 00:00:00</td>\n      <td>A90</td>\n      <td>110020</td>\n      <td>110020</td>\n      <td>2012-12-21 00:00:00</td>\n      <td>2013-02-22 00:00:00</td>\n    </tr>\n    <tr>\n      <th>1</th>\n      <td>2013-01-14 00:00:00</td>\n      <td>A90</td>\n      <td>110020</td>\n      <td>110020</td>\n      <td>2013-01-01 00:00:00</td>\n      <td>2013-02-22 00:00:00</td>\n    </tr>\n    <tr>\n      <th>2</th>\n      <td>2013-02-12 00:00:00</td>\n      <td>A90</td>\n      <td>500270</td>\n      <td>500270</td>\n      <td>2013-02-09 00:00:00</td>\n      <td>2013-02-23 00:00:00</td>\n    </tr>\n    <tr>\n      <th>3</th>\n      <td>2013-02-08 00:00:00</td>\n      <td>A90</td>\n      <td>520870</td>\n      <td>520870</td>\n      <td>2013-02-01 00:00:00</td>\n      <td>2013-03-01 00:00:00</td>\n    </tr>\n    <tr>\n      <th>4</th>\n      <td>2013-02-27 00:00:00</td>\n      <td>A90</td>\n      <td>431490</td>\n      <td>431490</td>\n      <td>2013-02-26 00:00:00</td>\n      <td>2013-02-27 00:00:00</td>\n    </tr>\n  </tbody>\n</table>\n</div>",
            "text/plain": "        dt_notificacao co_cid  co_municipio_notificacao  \\\n0  2012-12-27 00:00:00    A90                    110020   \n1  2013-01-14 00:00:00    A90                    110020   \n2  2013-02-12 00:00:00    A90                    500270   \n3  2013-02-08 00:00:00    A90                    520870   \n4  2013-02-27 00:00:00    A90                    431490   \n\n   co_municipio_residencia dt_diagnostico_sintoma         dt_digitacao  \n0                   110020    2012-12-21 00:00:00  2013-02-22 00:00:00  \n1                   110020    2013-01-01 00:00:00  2013-02-22 00:00:00  \n2                   500270    2013-02-09 00:00:00  2013-02-23 00:00:00  \n3                   520870    2013-02-01 00:00:00  2013-03-01 00:00:00  \n4                   431490    2013-02-26 00:00:00  2013-02-27 00:00:00  "
          },
          "metadata": {}
        }
      ]
    },
    {
      "metadata": {
        "trusted": true
      },
      "cell_type": "code",
      "source": "dados.dtypes",
      "execution_count": 4,
      "outputs": [
        {
          "output_type": "execute_result",
          "execution_count": 4,
          "data": {
            "text/plain": "dt_notificacao              object\nco_cid                      object\nco_municipio_notificacao     int64\nco_municipio_residencia      int64\ndt_diagnostico_sintoma      object\ndt_digitacao                object\ndtype: object"
          },
          "metadata": {}
        }
      ]
    },
    {
      "metadata": {
        "trusted": true
      },
      "cell_type": "code",
      "source": "dados.isnull().sum()",
      "execution_count": 5,
      "outputs": [
        {
          "output_type": "execute_result",
          "execution_count": 5,
          "data": {
            "text/plain": "dt_notificacao                 0\nco_cid                         0\nco_municipio_notificacao       0\nco_municipio_residencia        0\ndt_diagnostico_sintoma         8\ndt_digitacao                8335\ndtype: int64"
          },
          "metadata": {}
        }
      ]
    },
    {
      "metadata": {},
      "cell_type": "markdown",
      "source": "Temos valores omitidos nas colunas dt_diagnostico_sintoma e dt_digitacao. Vamos usar a data da notificação como índice em nossas análises, dado que, de acordo com o especialista consultado, é mais confiável e não tem valores omitidos. "
    },
    {
      "metadata": {},
      "cell_type": "markdown",
      "source": "É necessário transformar as colunas dt_notificacao, dt_diagnostico_sintoma, e dt_digitacao em data (tipo datetime)."
    },
    {
      "metadata": {
        "trusted": true
      },
      "cell_type": "code",
      "source": "dados.dt_notificacao = pd.to_datetime(dados.dt_notificacao, format = '%Y-%m-%d %H:%M:%S')\ndados.dt_diagnostico_sintoma = pd.to_datetime(dados.dt_diagnostico_sintoma, format = '%Y-%m-%d %H:%M:%S')\ndados.dt_digitacao = pd.to_datetime(dados.dt_digitacao, format = '%Y-%m-%d %H:%M:%S')",
      "execution_count": 6,
      "outputs": []
    },
    {
      "metadata": {
        "trusted": true
      },
      "cell_type": "code",
      "source": "dados.info()",
      "execution_count": 7,
      "outputs": [
        {
          "output_type": "stream",
          "text": "<class 'pandas.core.frame.DataFrame'>\nRangeIndex: 3684688 entries, 0 to 3684687\nData columns (total 6 columns):\ndt_notificacao              datetime64[ns]\nco_cid                      object\nco_municipio_notificacao    int64\nco_municipio_residencia     int64\ndt_diagnostico_sintoma      datetime64[ns]\ndt_digitacao                datetime64[ns]\ndtypes: datetime64[ns](3), int64(2), object(1)\nmemory usage: 168.7+ MB\n",
          "name": "stdout"
        }
      ]
    },
    {
      "metadata": {
        "trusted": true
      },
      "cell_type": "code",
      "source": "dados.isnull().sum()",
      "execution_count": 8,
      "outputs": [
        {
          "output_type": "execute_result",
          "execution_count": 8,
          "data": {
            "text/plain": "dt_notificacao                 0\nco_cid                         0\nco_municipio_notificacao       0\nco_municipio_residencia        0\ndt_diagnostico_sintoma         8\ndt_digitacao                8335\ndtype: int64"
          },
          "metadata": {}
        }
      ]
    },
    {
      "metadata": {
        "trusted": true
      },
      "cell_type": "code",
      "source": "dados.head()",
      "execution_count": 11,
      "outputs": [
        {
          "output_type": "execute_result",
          "execution_count": 11,
          "data": {
            "text/html": "<div>\n<style scoped>\n    .dataframe tbody tr th:only-of-type {\n        vertical-align: middle;\n    }\n\n    .dataframe tbody tr th {\n        vertical-align: top;\n    }\n\n    .dataframe thead th {\n        text-align: right;\n    }\n</style>\n<table border=\"1\" class=\"dataframe\">\n  <thead>\n    <tr style=\"text-align: right;\">\n      <th></th>\n      <th>dt_notificacao</th>\n      <th>co_cid</th>\n      <th>co_municipio_notificacao</th>\n      <th>co_municipio_residencia</th>\n      <th>dt_diagnostico_sintoma</th>\n      <th>dt_digitacao</th>\n    </tr>\n  </thead>\n  <tbody>\n    <tr>\n      <th>0</th>\n      <td>2012-12-27</td>\n      <td>A90</td>\n      <td>110020</td>\n      <td>110020</td>\n      <td>2012-12-21</td>\n      <td>2013-02-22</td>\n    </tr>\n    <tr>\n      <th>1</th>\n      <td>2013-01-14</td>\n      <td>A90</td>\n      <td>110020</td>\n      <td>110020</td>\n      <td>2013-01-01</td>\n      <td>2013-02-22</td>\n    </tr>\n    <tr>\n      <th>2</th>\n      <td>2013-02-12</td>\n      <td>A90</td>\n      <td>500270</td>\n      <td>500270</td>\n      <td>2013-02-09</td>\n      <td>2013-02-23</td>\n    </tr>\n    <tr>\n      <th>3</th>\n      <td>2013-02-08</td>\n      <td>A90</td>\n      <td>520870</td>\n      <td>520870</td>\n      <td>2013-02-01</td>\n      <td>2013-03-01</td>\n    </tr>\n    <tr>\n      <th>4</th>\n      <td>2013-02-27</td>\n      <td>A90</td>\n      <td>431490</td>\n      <td>431490</td>\n      <td>2013-02-26</td>\n      <td>2013-02-27</td>\n    </tr>\n  </tbody>\n</table>\n</div>",
            "text/plain": "  dt_notificacao co_cid  co_municipio_notificacao  co_municipio_residencia  \\\n0     2012-12-27    A90                    110020                   110020   \n1     2013-01-14    A90                    110020                   110020   \n2     2013-02-12    A90                    500270                   500270   \n3     2013-02-08    A90                    520870                   520870   \n4     2013-02-27    A90                    431490                   431490   \n\n  dt_diagnostico_sintoma dt_digitacao  \n0             2012-12-21   2013-02-22  \n1             2013-01-01   2013-02-22  \n2             2013-02-09   2013-02-23  \n3             2013-02-01   2013-03-01  \n4             2013-02-26   2013-02-27  "
          },
          "metadata": {}
        }
      ]
    },
    {
      "metadata": {},
      "cell_type": "markdown",
      "source": "Vamos obter o ano, o mês e a semana de cada data de notificação para uso posterior."
    },
    {
      "metadata": {
        "trusted": true
      },
      "cell_type": "code",
      "source": "ano_notificacao = dados.dt_notificacao.dt.year\nmes_notificacao = dados.dt_notificacao.dt.month\nsemana_notificacao = dados.dt_notificacao.dt.week",
      "execution_count": 12,
      "outputs": []
    },
    {
      "metadata": {},
      "cell_type": "markdown",
      "source": "Criamos então um novo data_frame apenas com a data da notificacao e o município de residencia."
    },
    {
      "metadata": {
        "trusted": true
      },
      "cell_type": "code",
      "source": "dengue = {'data': dados.dt_notificacao,\n          'residencia': dados.co_municipio_residencia}",
      "execution_count": 49,
      "outputs": []
    },
    {
      "metadata": {
        "trusted": true
      },
      "cell_type": "code",
      "source": "dengue = pd.DataFrame(dengue)\ndengue.head()",
      "execution_count": 50,
      "outputs": [
        {
          "output_type": "execute_result",
          "execution_count": 50,
          "data": {
            "text/html": "<div>\n<style scoped>\n    .dataframe tbody tr th:only-of-type {\n        vertical-align: middle;\n    }\n\n    .dataframe tbody tr th {\n        vertical-align: top;\n    }\n\n    .dataframe thead th {\n        text-align: right;\n    }\n</style>\n<table border=\"1\" class=\"dataframe\">\n  <thead>\n    <tr style=\"text-align: right;\">\n      <th></th>\n      <th>data</th>\n      <th>residencia</th>\n    </tr>\n  </thead>\n  <tbody>\n    <tr>\n      <th>0</th>\n      <td>2012-12-27</td>\n      <td>110020</td>\n    </tr>\n    <tr>\n      <th>1</th>\n      <td>2013-01-14</td>\n      <td>110020</td>\n    </tr>\n    <tr>\n      <th>2</th>\n      <td>2013-02-12</td>\n      <td>500270</td>\n    </tr>\n    <tr>\n      <th>3</th>\n      <td>2013-02-08</td>\n      <td>520870</td>\n    </tr>\n    <tr>\n      <th>4</th>\n      <td>2013-02-27</td>\n      <td>431490</td>\n    </tr>\n  </tbody>\n</table>\n</div>",
            "text/plain": "        data  residencia\n0 2012-12-27      110020\n1 2013-01-14      110020\n2 2013-02-12      500270\n3 2013-02-08      520870\n4 2013-02-27      431490"
          },
          "metadata": {}
        }
      ]
    },
    {
      "metadata": {
        "trusted": true
      },
      "cell_type": "code",
      "source": "dengue.info()",
      "execution_count": 51,
      "outputs": [
        {
          "output_type": "stream",
          "text": "<class 'pandas.core.frame.DataFrame'>\nRangeIndex: 3684688 entries, 0 to 3684687\nData columns (total 2 columns):\ndata          datetime64[ns]\nresidencia    int64\ndtypes: datetime64[ns](1), int64(1)\nmemory usage: 56.2 MB\n",
          "name": "stdout"
        }
      ]
    },
    {
      "metadata": {
        "trusted": true
      },
      "cell_type": "code",
      "source": "dengue_semana = dengue.groupby(['residencia']).resample('W', on='data').count()",
      "execution_count": 85,
      "outputs": []
    },
    {
      "metadata": {
        "trusted": true
      },
      "cell_type": "code",
      "source": "dengue_semana.head()",
      "execution_count": 86,
      "outputs": [
        {
          "output_type": "execute_result",
          "execution_count": 86,
          "data": {
            "text/html": "<div>\n<style scoped>\n    .dataframe tbody tr th:only-of-type {\n        vertical-align: middle;\n    }\n\n    .dataframe tbody tr th {\n        vertical-align: top;\n    }\n\n    .dataframe thead th {\n        text-align: right;\n    }\n</style>\n<table border=\"1\" class=\"dataframe\">\n  <thead>\n    <tr style=\"text-align: right;\">\n      <th></th>\n      <th></th>\n      <th>data</th>\n      <th>residencia</th>\n    </tr>\n    <tr>\n      <th>residencia</th>\n      <th>data</th>\n      <th></th>\n      <th></th>\n    </tr>\n  </thead>\n  <tbody>\n    <tr>\n      <th rowspan=\"5\" valign=\"top\">110020</th>\n      <th>2007-01-07</th>\n      <td>4</td>\n      <td>4</td>\n    </tr>\n    <tr>\n      <th>2007-01-14</th>\n      <td>9</td>\n      <td>9</td>\n    </tr>\n    <tr>\n      <th>2007-01-21</th>\n      <td>16</td>\n      <td>16</td>\n    </tr>\n    <tr>\n      <th>2007-01-28</th>\n      <td>9</td>\n      <td>9</td>\n    </tr>\n    <tr>\n      <th>2007-02-04</th>\n      <td>11</td>\n      <td>11</td>\n    </tr>\n  </tbody>\n</table>\n</div>",
            "text/plain": "                       data  residencia\nresidencia data                        \n110020     2007-01-07     4           4\n           2007-01-14     9           9\n           2007-01-21    16          16\n           2007-01-28     9           9\n           2007-02-04    11          11"
          },
          "metadata": {}
        }
      ]
    },
    {
      "metadata": {
        "trusted": true
      },
      "cell_type": "code",
      "source": "dengue_semana.drop(columns=['residencia'], inplace=True)\ndengue_semana.rename({'data':'ocorrencias'}, axis='columns', inplace=True)",
      "execution_count": 87,
      "outputs": []
    },
    {
      "metadata": {
        "trusted": true
      },
      "cell_type": "code",
      "source": "dengue_semana.head()",
      "execution_count": 88,
      "outputs": [
        {
          "output_type": "execute_result",
          "execution_count": 88,
          "data": {
            "text/html": "<div>\n<style scoped>\n    .dataframe tbody tr th:only-of-type {\n        vertical-align: middle;\n    }\n\n    .dataframe tbody tr th {\n        vertical-align: top;\n    }\n\n    .dataframe thead th {\n        text-align: right;\n    }\n</style>\n<table border=\"1\" class=\"dataframe\">\n  <thead>\n    <tr style=\"text-align: right;\">\n      <th></th>\n      <th></th>\n      <th>ocorrencias</th>\n    </tr>\n    <tr>\n      <th>residencia</th>\n      <th>data</th>\n      <th></th>\n    </tr>\n  </thead>\n  <tbody>\n    <tr>\n      <th rowspan=\"5\" valign=\"top\">110020</th>\n      <th>2007-01-07</th>\n      <td>4</td>\n    </tr>\n    <tr>\n      <th>2007-01-14</th>\n      <td>9</td>\n    </tr>\n    <tr>\n      <th>2007-01-21</th>\n      <td>16</td>\n    </tr>\n    <tr>\n      <th>2007-01-28</th>\n      <td>9</td>\n    </tr>\n    <tr>\n      <th>2007-02-04</th>\n      <td>11</td>\n    </tr>\n  </tbody>\n</table>\n</div>",
            "text/plain": "                       ocorrencias\nresidencia data                   \n110020     2007-01-07            4\n           2007-01-14            9\n           2007-01-21           16\n           2007-01-28            9\n           2007-02-04           11"
          },
          "metadata": {}
        }
      ]
    },
    {
      "metadata": {
        "trusted": true
      },
      "cell_type": "code",
      "source": "dengue_semana.index.get_level_values('residencia')",
      "execution_count": 97,
      "outputs": [
        {
          "output_type": "execute_result",
          "execution_count": 97,
          "data": {
            "text/plain": "Int64Index([110020, 110020, 110020, 110020, 110020, 110020, 110020, 110020,\n            110020, 110020,\n            ...\n            530010, 530010, 530010, 530010, 530010, 530010, 530010, 530010,\n            530010, 530010],\n           dtype='int64', name='residencia', length=29403)"
          },
          "metadata": {}
        }
      ]
    },
    {
      "metadata": {
        "trusted": true
      },
      "cell_type": "code",
      "source": "dengue_semana.index.get_level_values('data')",
      "execution_count": 98,
      "outputs": [
        {
          "output_type": "execute_result",
          "execution_count": 98,
          "data": {
            "text/plain": "DatetimeIndex(['2007-01-07', '2007-01-14', '2007-01-21', '2007-01-28',\n               '2007-02-04', '2007-02-11', '2007-02-18', '2007-02-25',\n               '2007-03-04', '2007-03-11',\n               ...\n               '2019-03-10', '2019-03-17', '2019-03-24', '2019-03-31',\n               '2019-04-07', '2019-04-14', '2019-04-21', '2019-04-28',\n               '2019-05-05', '2019-05-12'],\n              dtype='datetime64[ns]', name='data', length=29403, freq=None)"
          },
          "metadata": {}
        }
      ]
    },
    {
      "metadata": {
        "trusted": true
      },
      "cell_type": "code",
      "source": "dengue_semana.loc[110020].plot(figsize=(20,10), linewidth=3, fontsize=15)\nplt.xlabel('Ano', fontsize=20)",
      "execution_count": 113,
      "outputs": [
        {
          "output_type": "execute_result",
          "execution_count": 113,
          "data": {
            "text/plain": "Text(0.5, 0, 'Ano')"
          },
          "metadata": {}
        },
        {
          "output_type": "display_data",
          "data": {
            "image/png": "[encoded data removed]",
            "text/plain": "<Figure size 1440x720 with 1 Axes>"
          },
          "metadata": {
            "needs_background": "light"
          }
        }
      ]
    },
    {
      "metadata": {
        "trusted": true
      },
      "cell_type": "markdown",
      "source": "Em seguinda, obtemos a lista de municípios da notificação e de residência da pessoa que contraiu dengue."
    },
    {
      "metadata": {
        "trusted": true,
        "scrolled": true
      },
      "cell_type": "code",
      "source": "municipios = sorted(dados.co_municipio_notificacao.unique().tolist())\nresidencias = sorted(dados.co_municipio_residencia.unique().tolist())\n\nprint(type(municipios), len(municipios), type(residencias), len(residencias))",
      "execution_count": 30,
      "outputs": [
        {
          "output_type": "stream",
          "text": "<class 'list'> 2055 <class 'list'> 28\n",
          "name": "stdout"
        }
      ]
    },
    {
      "metadata": {},
      "cell_type": "markdown",
      "source": "### Problema: \nTemos 2055 municípios de notificação e apenas 28 de residência"
    }
  ],
  "metadata": {
    "kernelspec": {
      "name": "python36",
      "display_name": "Python 3.6",
      "language": "python"
    },
    "language_info": {
      "mimetype": "text/x-python",
      "nbconvert_exporter": "python",
      "name": "python",
      "pygments_lexer": "ipython3",
      "version": "3.6.6",
      "file_extension": ".py",
      "codemirror_mode": {
        "version": 3,
        "name": "ipython"
      }
    }
  },
  "nbformat": 4,
  "nbformat_minor": 2
}