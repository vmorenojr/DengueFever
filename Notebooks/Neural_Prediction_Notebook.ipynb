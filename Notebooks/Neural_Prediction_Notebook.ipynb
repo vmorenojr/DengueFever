{
 "cells": [
  {
   "cell_type": "markdown",
   "metadata": {},
   "source": [
    "# Regression to predict Dengue Cases in Brazil"
   ]
  },
  {
   "cell_type": "markdown",
   "metadata": {},
   "source": [
    "### We explored neural networks to do a regression task and try to predict the dengue spread in Brazil."
   ]
  },
  {
   "cell_type": "code",
   "execution_count": 2,
   "metadata": {},
   "outputs": [],
   "source": [
    "from __future__ import absolute_import, division, print_function, unicode_literals\n",
    "import warnings\n",
    "warnings.filterwarnings('ignore')\n",
    "import pandas as pd\n",
    "import numpy as np\n",
    "import matplotlib.pyplot as plt\n",
    "np.random.seed(12345)\n",
    "import tensorflow as tf\n",
    "from tensorflow import keras\n",
    "from tensorflow.keras import layers\n",
    "from tensorflow.keras.models import save_model"
   ]
  },
  {
   "cell_type": "markdown",
   "metadata": {},
   "source": [
    "### Let's load the data set"
   ]
  },
  {
   "cell_type": "code",
   "execution_count": 5,
   "metadata": {},
   "outputs": [],
   "source": [
    "df = pd.read_csv(\"../Dados/Datasets/Belo Horizonte.csv.gz\")"
   ]
  },
  {
   "cell_type": "code",
   "execution_count": 3,
   "metadata": {},
   "outputs": [
    {
     "data": {
      "text/html": [
       "<div>\n",
       "<style scoped>\n",
       "    .dataframe tbody tr th:only-of-type {\n",
       "        vertical-align: middle;\n",
       "    }\n",
       "\n",
       "    .dataframe tbody tr th {\n",
       "        vertical-align: top;\n",
       "    }\n",
       "\n",
       "    .dataframe thead th {\n",
       "        text-align: right;\n",
       "    }\n",
       "</style>\n",
       "<table border=\"1\" class=\"dataframe\">\n",
       "  <thead>\n",
       "    <tr style=\"text-align: right;\">\n",
       "      <th></th>\n",
       "      <th>capital</th>\n",
       "      <th>data_alvo</th>\n",
       "      <th>ocorrencias_alvo</th>\n",
       "      <th>por_habitante_alvo</th>\n",
       "      <th>municipio</th>\n",
       "      <th>dt_sintoma</th>\n",
       "      <th>lag</th>\n",
       "      <th>ocorrencias</th>\n",
       "      <th>por_habitante</th>\n",
       "      <th>distancia</th>\n",
       "    </tr>\n",
       "  </thead>\n",
       "  <tbody>\n",
       "    <tr>\n",
       "      <td>0</td>\n",
       "      <td>Belo Horizonte</td>\n",
       "      <td>2019-05-05</td>\n",
       "      <td>1168</td>\n",
       "      <td>46.279053</td>\n",
       "      <td>Aracaju</td>\n",
       "      <td>2016-05-01</td>\n",
       "      <td>157.0</td>\n",
       "      <td>24</td>\n",
       "      <td>3.772523</td>\n",
       "      <td>12.48</td>\n",
       "    </tr>\n",
       "    <tr>\n",
       "      <td>1</td>\n",
       "      <td>Belo Horizonte</td>\n",
       "      <td>2019-05-05</td>\n",
       "      <td>1168</td>\n",
       "      <td>46.279053</td>\n",
       "      <td>Aracaju</td>\n",
       "      <td>2016-05-08</td>\n",
       "      <td>156.0</td>\n",
       "      <td>40</td>\n",
       "      <td>6.286037</td>\n",
       "      <td>12.48</td>\n",
       "    </tr>\n",
       "    <tr>\n",
       "      <td>2</td>\n",
       "      <td>Belo Horizonte</td>\n",
       "      <td>2019-05-05</td>\n",
       "      <td>1168</td>\n",
       "      <td>46.279053</td>\n",
       "      <td>Aracaju</td>\n",
       "      <td>2016-05-15</td>\n",
       "      <td>155.0</td>\n",
       "      <td>21</td>\n",
       "      <td>3.299381</td>\n",
       "      <td>12.48</td>\n",
       "    </tr>\n",
       "    <tr>\n",
       "      <td>3</td>\n",
       "      <td>Belo Horizonte</td>\n",
       "      <td>2019-05-05</td>\n",
       "      <td>1168</td>\n",
       "      <td>46.279053</td>\n",
       "      <td>Aracaju</td>\n",
       "      <td>2016-05-22</td>\n",
       "      <td>154.0</td>\n",
       "      <td>35</td>\n",
       "      <td>5.497664</td>\n",
       "      <td>12.48</td>\n",
       "    </tr>\n",
       "    <tr>\n",
       "      <td>4</td>\n",
       "      <td>Belo Horizonte</td>\n",
       "      <td>2019-05-05</td>\n",
       "      <td>1168</td>\n",
       "      <td>46.279053</td>\n",
       "      <td>Aracaju</td>\n",
       "      <td>2016-05-29</td>\n",
       "      <td>153.0</td>\n",
       "      <td>31</td>\n",
       "      <td>4.868197</td>\n",
       "      <td>12.48</td>\n",
       "    </tr>\n",
       "    <tr>\n",
       "      <td>...</td>\n",
       "      <td>...</td>\n",
       "      <td>...</td>\n",
       "      <td>...</td>\n",
       "      <td>...</td>\n",
       "      <td>...</td>\n",
       "      <td>...</td>\n",
       "      <td>...</td>\n",
       "      <td>...</td>\n",
       "      <td>...</td>\n",
       "      <td>...</td>\n",
       "    </tr>\n",
       "    <tr>\n",
       "      <td>1106373</td>\n",
       "      <td>Belo Horizonte</td>\n",
       "      <td>2019-04-28</td>\n",
       "      <td>5683</td>\n",
       "      <td>225.203180</td>\n",
       "      <td>Vitória</td>\n",
       "      <td>2019-03-24</td>\n",
       "      <td>5.0</td>\n",
       "      <td>146</td>\n",
       "      <td>40.212963</td>\n",
       "      <td>3.78</td>\n",
       "    </tr>\n",
       "    <tr>\n",
       "      <td>1106374</td>\n",
       "      <td>Belo Horizonte</td>\n",
       "      <td>2019-04-28</td>\n",
       "      <td>5683</td>\n",
       "      <td>225.203180</td>\n",
       "      <td>Vitória</td>\n",
       "      <td>2019-03-31</td>\n",
       "      <td>4.0</td>\n",
       "      <td>204</td>\n",
       "      <td>56.176217</td>\n",
       "      <td>3.78</td>\n",
       "    </tr>\n",
       "    <tr>\n",
       "      <td>1106375</td>\n",
       "      <td>Belo Horizonte</td>\n",
       "      <td>2019-04-28</td>\n",
       "      <td>5683</td>\n",
       "      <td>225.203180</td>\n",
       "      <td>Vitória</td>\n",
       "      <td>2019-04-07</td>\n",
       "      <td>3.0</td>\n",
       "      <td>196</td>\n",
       "      <td>53.962083</td>\n",
       "      <td>3.78</td>\n",
       "    </tr>\n",
       "    <tr>\n",
       "      <td>1106376</td>\n",
       "      <td>Belo Horizonte</td>\n",
       "      <td>2019-04-28</td>\n",
       "      <td>5683</td>\n",
       "      <td>225.203180</td>\n",
       "      <td>Vitória</td>\n",
       "      <td>2019-04-14</td>\n",
       "      <td>2.0</td>\n",
       "      <td>180</td>\n",
       "      <td>49.546648</td>\n",
       "      <td>3.78</td>\n",
       "    </tr>\n",
       "    <tr>\n",
       "      <td>1106377</td>\n",
       "      <td>Belo Horizonte</td>\n",
       "      <td>2019-04-28</td>\n",
       "      <td>5683</td>\n",
       "      <td>225.203180</td>\n",
       "      <td>Vitória</td>\n",
       "      <td>2019-04-21</td>\n",
       "      <td>1.0</td>\n",
       "      <td>194</td>\n",
       "      <td>53.389254</td>\n",
       "      <td>3.78</td>\n",
       "    </tr>\n",
       "  </tbody>\n",
       "</table>\n",
       "<p>1106378 rows × 10 columns</p>\n",
       "</div>"
      ],
      "text/plain": [
       "                capital   data_alvo  ocorrencias_alvo  por_habitante_alvo  \\\n",
       "0        Belo Horizonte  2019-05-05              1168           46.279053   \n",
       "1        Belo Horizonte  2019-05-05              1168           46.279053   \n",
       "2        Belo Horizonte  2019-05-05              1168           46.279053   \n",
       "3        Belo Horizonte  2019-05-05              1168           46.279053   \n",
       "4        Belo Horizonte  2019-05-05              1168           46.279053   \n",
       "...                 ...         ...               ...                 ...   \n",
       "1106373  Belo Horizonte  2019-04-28              5683          225.203180   \n",
       "1106374  Belo Horizonte  2019-04-28              5683          225.203180   \n",
       "1106375  Belo Horizonte  2019-04-28              5683          225.203180   \n",
       "1106376  Belo Horizonte  2019-04-28              5683          225.203180   \n",
       "1106377  Belo Horizonte  2019-04-28              5683          225.203180   \n",
       "\n",
       "        municipio  dt_sintoma    lag  ocorrencias  por_habitante  distancia  \n",
       "0         Aracaju  2016-05-01  157.0           24       3.772523      12.48  \n",
       "1         Aracaju  2016-05-08  156.0           40       6.286037      12.48  \n",
       "2         Aracaju  2016-05-15  155.0           21       3.299381      12.48  \n",
       "3         Aracaju  2016-05-22  154.0           35       5.497664      12.48  \n",
       "4         Aracaju  2016-05-29  153.0           31       4.868197      12.48  \n",
       "...           ...         ...    ...          ...            ...        ...  \n",
       "1106373   Vitória  2019-03-24    5.0          146      40.212963       3.78  \n",
       "1106374   Vitória  2019-03-31    4.0          204      56.176217       3.78  \n",
       "1106375   Vitória  2019-04-07    3.0          196      53.962083       3.78  \n",
       "1106376   Vitória  2019-04-14    2.0          180      49.546648       3.78  \n",
       "1106377   Vitória  2019-04-21    1.0          194      53.389254       3.78  \n",
       "\n",
       "[1106378 rows x 10 columns]"
      ]
     },
     "execution_count": 3,
     "metadata": {},
     "output_type": "execute_result"
    }
   ],
   "source": [
    "df"
   ]
  },
  {
   "cell_type": "markdown",
   "metadata": {},
   "source": [
    "#### We are going to split the data into train and test data sets. The columns we'll use are: por_habitante_alvo, 'lag, por_habitante and distancia"
   ]
  },
  {
   "cell_type": "code",
   "execution_count": 4,
   "metadata": {},
   "outputs": [
    {
     "data": {
      "text/html": [
       "<div>\n",
       "<style scoped>\n",
       "    .dataframe tbody tr th:only-of-type {\n",
       "        vertical-align: middle;\n",
       "    }\n",
       "\n",
       "    .dataframe tbody tr th {\n",
       "        vertical-align: top;\n",
       "    }\n",
       "\n",
       "    .dataframe thead th {\n",
       "        text-align: right;\n",
       "    }\n",
       "</style>\n",
       "<table border=\"1\" class=\"dataframe\">\n",
       "  <thead>\n",
       "    <tr style=\"text-align: right;\">\n",
       "      <th></th>\n",
       "      <th>por_habitante_alvo</th>\n",
       "      <th>por_habitante</th>\n",
       "      <th>lag</th>\n",
       "      <th>distancia</th>\n",
       "    </tr>\n",
       "  </thead>\n",
       "  <tbody>\n",
       "    <tr>\n",
       "      <td>0</td>\n",
       "      <td>46.279053</td>\n",
       "      <td>3.772523</td>\n",
       "      <td>157.0</td>\n",
       "      <td>12.48</td>\n",
       "    </tr>\n",
       "    <tr>\n",
       "      <td>1</td>\n",
       "      <td>46.279053</td>\n",
       "      <td>6.286037</td>\n",
       "      <td>156.0</td>\n",
       "      <td>12.48</td>\n",
       "    </tr>\n",
       "    <tr>\n",
       "      <td>2</td>\n",
       "      <td>46.279053</td>\n",
       "      <td>3.299381</td>\n",
       "      <td>155.0</td>\n",
       "      <td>12.48</td>\n",
       "    </tr>\n",
       "    <tr>\n",
       "      <td>3</td>\n",
       "      <td>46.279053</td>\n",
       "      <td>5.497664</td>\n",
       "      <td>154.0</td>\n",
       "      <td>12.48</td>\n",
       "    </tr>\n",
       "    <tr>\n",
       "      <td>4</td>\n",
       "      <td>46.279053</td>\n",
       "      <td>4.868197</td>\n",
       "      <td>153.0</td>\n",
       "      <td>12.48</td>\n",
       "    </tr>\n",
       "    <tr>\n",
       "      <td>...</td>\n",
       "      <td>...</td>\n",
       "      <td>...</td>\n",
       "      <td>...</td>\n",
       "      <td>...</td>\n",
       "    </tr>\n",
       "    <tr>\n",
       "      <td>1106373</td>\n",
       "      <td>225.203180</td>\n",
       "      <td>40.212963</td>\n",
       "      <td>5.0</td>\n",
       "      <td>3.78</td>\n",
       "    </tr>\n",
       "    <tr>\n",
       "      <td>1106374</td>\n",
       "      <td>225.203180</td>\n",
       "      <td>56.176217</td>\n",
       "      <td>4.0</td>\n",
       "      <td>3.78</td>\n",
       "    </tr>\n",
       "    <tr>\n",
       "      <td>1106375</td>\n",
       "      <td>225.203180</td>\n",
       "      <td>53.962083</td>\n",
       "      <td>3.0</td>\n",
       "      <td>3.78</td>\n",
       "    </tr>\n",
       "    <tr>\n",
       "      <td>1106376</td>\n",
       "      <td>225.203180</td>\n",
       "      <td>49.546648</td>\n",
       "      <td>2.0</td>\n",
       "      <td>3.78</td>\n",
       "    </tr>\n",
       "    <tr>\n",
       "      <td>1106377</td>\n",
       "      <td>225.203180</td>\n",
       "      <td>53.389254</td>\n",
       "      <td>1.0</td>\n",
       "      <td>3.78</td>\n",
       "    </tr>\n",
       "  </tbody>\n",
       "</table>\n",
       "<p>1106378 rows × 4 columns</p>\n",
       "</div>"
      ],
      "text/plain": [
       "         por_habitante_alvo  por_habitante    lag  distancia\n",
       "0                 46.279053       3.772523  157.0      12.48\n",
       "1                 46.279053       6.286037  156.0      12.48\n",
       "2                 46.279053       3.299381  155.0      12.48\n",
       "3                 46.279053       5.497664  154.0      12.48\n",
       "4                 46.279053       4.868197  153.0      12.48\n",
       "...                     ...            ...    ...        ...\n",
       "1106373          225.203180      40.212963    5.0       3.78\n",
       "1106374          225.203180      56.176217    4.0       3.78\n",
       "1106375          225.203180      53.962083    3.0       3.78\n",
       "1106376          225.203180      49.546648    2.0       3.78\n",
       "1106377          225.203180      53.389254    1.0       3.78\n",
       "\n",
       "[1106378 rows x 4 columns]"
      ]
     },
     "execution_count": 4,
     "metadata": {},
     "output_type": "execute_result"
    }
   ],
   "source": [
    "train_data = df[['por_habitante_alvo','por_habitante','lag','distancia']]\n",
    "train_data"
   ]
  },
  {
   "cell_type": "code",
   "execution_count": 31,
   "metadata": {},
   "outputs": [
    {
     "data": {
      "text/html": [
       "<div>\n",
       "<style scoped>\n",
       "    .dataframe tbody tr th:only-of-type {\n",
       "        vertical-align: middle;\n",
       "    }\n",
       "\n",
       "    .dataframe tbody tr th {\n",
       "        vertical-align: top;\n",
       "    }\n",
       "\n",
       "    .dataframe thead th {\n",
       "        text-align: right;\n",
       "    }\n",
       "</style>\n",
       "<table border=\"1\" class=\"dataframe\">\n",
       "  <thead>\n",
       "    <tr style=\"text-align: right;\">\n",
       "      <th></th>\n",
       "      <th>por_habitante_alvo</th>\n",
       "      <th>por_habitante</th>\n",
       "      <th>lag</th>\n",
       "      <th>distancia</th>\n",
       "    </tr>\n",
       "  </thead>\n",
       "  <tbody>\n",
       "    <tr>\n",
       "      <td>4238</td>\n",
       "      <td>14.820225</td>\n",
       "      <td>11.646867</td>\n",
       "      <td>157.0</td>\n",
       "      <td>12.48</td>\n",
       "    </tr>\n",
       "    <tr>\n",
       "      <td>4239</td>\n",
       "      <td>14.820225</td>\n",
       "      <td>16.536763</td>\n",
       "      <td>156.0</td>\n",
       "      <td>12.48</td>\n",
       "    </tr>\n",
       "    <tr>\n",
       "      <td>4240</td>\n",
       "      <td>14.820225</td>\n",
       "      <td>13.663898</td>\n",
       "      <td>155.0</td>\n",
       "      <td>12.48</td>\n",
       "    </tr>\n",
       "    <tr>\n",
       "      <td>4241</td>\n",
       "      <td>14.820225</td>\n",
       "      <td>15.008761</td>\n",
       "      <td>154.0</td>\n",
       "      <td>12.48</td>\n",
       "    </tr>\n",
       "    <tr>\n",
       "      <td>4242</td>\n",
       "      <td>14.820225</td>\n",
       "      <td>16.184203</td>\n",
       "      <td>153.0</td>\n",
       "      <td>12.48</td>\n",
       "    </tr>\n",
       "  </tbody>\n",
       "</table>\n",
       "</div>"
      ],
      "text/plain": [
       "      por_habitante_alvo  por_habitante    lag  distancia\n",
       "4238           14.820225      11.646867  157.0      12.48\n",
       "4239           14.820225      16.536763  156.0      12.48\n",
       "4240           14.820225      13.663898  155.0      12.48\n",
       "4241           14.820225      15.008761  154.0      12.48\n",
       "4242           14.820225      16.184203  153.0      12.48"
      ]
     },
     "execution_count": 31,
     "metadata": {},
     "output_type": "execute_result"
    }
   ],
   "source": [
    "train_dataset = df[df['data_alvo']<='2017'][['por_habitante_alvo','por_habitante','lag','distancia']]\n",
    "test_dataset = df[df['data_alvo']>'2017'][['por_habitante_alvo','por_habitante','lag','distancia']]\n",
    "train_dataset.head()"
   ]
  },
  {
   "cell_type": "markdown",
   "metadata": {},
   "source": [
    "### We are going to normalize the input."
   ]
  },
  {
   "cell_type": "code",
   "execution_count": 32,
   "metadata": {},
   "outputs": [
    {
     "data": {
      "text/html": [
       "<div>\n",
       "<style scoped>\n",
       "    .dataframe tbody tr th:only-of-type {\n",
       "        vertical-align: middle;\n",
       "    }\n",
       "\n",
       "    .dataframe tbody tr th {\n",
       "        vertical-align: top;\n",
       "    }\n",
       "\n",
       "    .dataframe thead th {\n",
       "        text-align: right;\n",
       "    }\n",
       "</style>\n",
       "<table border=\"1\" class=\"dataframe\">\n",
       "  <thead>\n",
       "    <tr style=\"text-align: right;\">\n",
       "      <th></th>\n",
       "      <th>count</th>\n",
       "      <th>mean</th>\n",
       "      <th>std</th>\n",
       "      <th>min</th>\n",
       "      <th>25%</th>\n",
       "      <th>50%</th>\n",
       "      <th>75%</th>\n",
       "      <th>max</th>\n",
       "    </tr>\n",
       "  </thead>\n",
       "  <tbody>\n",
       "    <tr>\n",
       "      <td>por_habitante</td>\n",
       "      <td>1106378.0</td>\n",
       "      <td>15.949661</td>\n",
       "      <td>41.611200</td>\n",
       "      <td>0.0</td>\n",
       "      <td>1.890014</td>\n",
       "      <td>4.716662</td>\n",
       "      <td>13.243189</td>\n",
       "      <td>711.541423</td>\n",
       "    </tr>\n",
       "    <tr>\n",
       "      <td>lag</td>\n",
       "      <td>1106378.0</td>\n",
       "      <td>79.000071</td>\n",
       "      <td>45.321057</td>\n",
       "      <td>1.0</td>\n",
       "      <td>40.000000</td>\n",
       "      <td>79.000000</td>\n",
       "      <td>118.000000</td>\n",
       "      <td>157.000000</td>\n",
       "    </tr>\n",
       "    <tr>\n",
       "      <td>distancia</td>\n",
       "      <td>1106378.0</td>\n",
       "      <td>14.451103</td>\n",
       "      <td>7.846408</td>\n",
       "      <td>0.0</td>\n",
       "      <td>8.200000</td>\n",
       "      <td>13.720000</td>\n",
       "      <td>19.320000</td>\n",
       "      <td>31.170000</td>\n",
       "    </tr>\n",
       "  </tbody>\n",
       "</table>\n",
       "</div>"
      ],
      "text/plain": [
       "                   count       mean        std  min        25%        50%  \\\n",
       "por_habitante  1106378.0  15.949661  41.611200  0.0   1.890014   4.716662   \n",
       "lag            1106378.0  79.000071  45.321057  1.0  40.000000  79.000000   \n",
       "distancia      1106378.0  14.451103   7.846408  0.0   8.200000  13.720000   \n",
       "\n",
       "                      75%         max  \n",
       "por_habitante   13.243189  711.541423  \n",
       "lag            118.000000  157.000000  \n",
       "distancia       19.320000   31.170000  "
      ]
     },
     "execution_count": 32,
     "metadata": {},
     "output_type": "execute_result"
    }
   ],
   "source": [
    "train_stats = train_data.describe()\n",
    "train_stats.pop('por_habitante_alvo')\n",
    "train_stats = train_stats.transpose()\n",
    "train_stats"
   ]
  },
  {
   "cell_type": "code",
   "execution_count": 33,
   "metadata": {},
   "outputs": [],
   "source": [
    "train_labels = train_dataset.pop('por_habitante_alvo')\n",
    "test_labels = test_dataset.pop('por_habitante_alvo')"
   ]
  },
  {
   "cell_type": "code",
   "execution_count": 34,
   "metadata": {},
   "outputs": [
    {
     "data": {
      "text/plain": [
       "4238    14.820225\n",
       "4239    14.820225\n",
       "4240    14.820225\n",
       "4241    14.820225\n",
       "4242    14.820225\n",
       "Name: por_habitante_alvo, dtype: float64"
      ]
     },
     "execution_count": 34,
     "metadata": {},
     "output_type": "execute_result"
    }
   ],
   "source": [
    "train_labels.head()"
   ]
  },
  {
   "cell_type": "code",
   "execution_count": 35,
   "metadata": {},
   "outputs": [
    {
     "data": {
      "text/plain": [
       "0    46.279053\n",
       "1    46.279053\n",
       "2    46.279053\n",
       "3    46.279053\n",
       "4    46.279053\n",
       "Name: por_habitante_alvo, dtype: float64"
      ]
     },
     "execution_count": 35,
     "metadata": {},
     "output_type": "execute_result"
    }
   ],
   "source": [
    "test_labels.head()"
   ]
  },
  {
   "cell_type": "code",
   "execution_count": 36,
   "metadata": {},
   "outputs": [],
   "source": [
    "#Given a dataset, normalize it.\n",
    "def norm(x):\n",
    "    return (x - (train_stats['mean'])) / (train_stats['std'])\n",
    "            \n",
    "normed_train_data = norm(train_dataset)\n",
    "normed_test_data = norm(test_dataset)"
   ]
  },
  {
   "cell_type": "code",
   "execution_count": 37,
   "metadata": {},
   "outputs": [
    {
     "data": {
      "text/html": [
       "<div>\n",
       "<style scoped>\n",
       "    .dataframe tbody tr th:only-of-type {\n",
       "        vertical-align: middle;\n",
       "    }\n",
       "\n",
       "    .dataframe tbody tr th {\n",
       "        vertical-align: top;\n",
       "    }\n",
       "\n",
       "    .dataframe thead th {\n",
       "        text-align: right;\n",
       "    }\n",
       "</style>\n",
       "<table border=\"1\" class=\"dataframe\">\n",
       "  <thead>\n",
       "    <tr style=\"text-align: right;\">\n",
       "      <th></th>\n",
       "      <th>por_habitante</th>\n",
       "      <th>lag</th>\n",
       "      <th>distancia</th>\n",
       "    </tr>\n",
       "  </thead>\n",
       "  <tbody>\n",
       "    <tr>\n",
       "      <td>4238</td>\n",
       "      <td>-0.103405</td>\n",
       "      <td>1.721053</td>\n",
       "      <td>-0.251211</td>\n",
       "    </tr>\n",
       "    <tr>\n",
       "      <td>4239</td>\n",
       "      <td>0.014109</td>\n",
       "      <td>1.698988</td>\n",
       "      <td>-0.251211</td>\n",
       "    </tr>\n",
       "    <tr>\n",
       "      <td>4240</td>\n",
       "      <td>-0.054931</td>\n",
       "      <td>1.676923</td>\n",
       "      <td>-0.251211</td>\n",
       "    </tr>\n",
       "    <tr>\n",
       "      <td>4241</td>\n",
       "      <td>-0.022612</td>\n",
       "      <td>1.654858</td>\n",
       "      <td>-0.251211</td>\n",
       "    </tr>\n",
       "    <tr>\n",
       "      <td>4242</td>\n",
       "      <td>0.005637</td>\n",
       "      <td>1.632794</td>\n",
       "      <td>-0.251211</td>\n",
       "    </tr>\n",
       "  </tbody>\n",
       "</table>\n",
       "</div>"
      ],
      "text/plain": [
       "      por_habitante       lag  distancia\n",
       "4238      -0.103405  1.721053  -0.251211\n",
       "4239       0.014109  1.698988  -0.251211\n",
       "4240      -0.054931  1.676923  -0.251211\n",
       "4241      -0.022612  1.654858  -0.251211\n",
       "4242       0.005637  1.632794  -0.251211"
      ]
     },
     "execution_count": 37,
     "metadata": {},
     "output_type": "execute_result"
    }
   ],
   "source": [
    "normed_train_data.head()"
   ]
  },
  {
   "cell_type": "code",
   "execution_count": 38,
   "metadata": {},
   "outputs": [
    {
     "data": {
      "text/html": [
       "<div>\n",
       "<style scoped>\n",
       "    .dataframe tbody tr th:only-of-type {\n",
       "        vertical-align: middle;\n",
       "    }\n",
       "\n",
       "    .dataframe tbody tr th {\n",
       "        vertical-align: top;\n",
       "    }\n",
       "\n",
       "    .dataframe thead th {\n",
       "        text-align: right;\n",
       "    }\n",
       "</style>\n",
       "<table border=\"1\" class=\"dataframe\">\n",
       "  <thead>\n",
       "    <tr style=\"text-align: right;\">\n",
       "      <th></th>\n",
       "      <th>por_habitante</th>\n",
       "      <th>lag</th>\n",
       "      <th>distancia</th>\n",
       "    </tr>\n",
       "  </thead>\n",
       "  <tbody>\n",
       "    <tr>\n",
       "      <td>0</td>\n",
       "      <td>-0.292641</td>\n",
       "      <td>1.721053</td>\n",
       "      <td>-0.251211</td>\n",
       "    </tr>\n",
       "    <tr>\n",
       "      <td>1</td>\n",
       "      <td>-0.232236</td>\n",
       "      <td>1.698988</td>\n",
       "      <td>-0.251211</td>\n",
       "    </tr>\n",
       "    <tr>\n",
       "      <td>2</td>\n",
       "      <td>-0.304011</td>\n",
       "      <td>1.676923</td>\n",
       "      <td>-0.251211</td>\n",
       "    </tr>\n",
       "    <tr>\n",
       "      <td>3</td>\n",
       "      <td>-0.251182</td>\n",
       "      <td>1.654858</td>\n",
       "      <td>-0.251211</td>\n",
       "    </tr>\n",
       "    <tr>\n",
       "      <td>4</td>\n",
       "      <td>-0.266310</td>\n",
       "      <td>1.632794</td>\n",
       "      <td>-0.251211</td>\n",
       "    </tr>\n",
       "  </tbody>\n",
       "</table>\n",
       "</div>"
      ],
      "text/plain": [
       "   por_habitante       lag  distancia\n",
       "0      -0.292641  1.721053  -0.251211\n",
       "1      -0.232236  1.698988  -0.251211\n",
       "2      -0.304011  1.676923  -0.251211\n",
       "3      -0.251182  1.654858  -0.251211\n",
       "4      -0.266310  1.632794  -0.251211"
      ]
     },
     "execution_count": 38,
     "metadata": {},
     "output_type": "execute_result"
    }
   ],
   "source": [
    "normed_test_data.head()"
   ]
  },
  {
   "cell_type": "markdown",
   "metadata": {},
   "source": [
    "## Let's build the model. We are going to use a neural Dense network with 1 hidden layer."
   ]
  },
  {
   "cell_type": "code",
   "execution_count": 13,
   "metadata": {},
   "outputs": [],
   "source": [
    "def build_model():\n",
    "    model = keras.Sequential([\n",
    "    layers.Dense(64, activation=tf.nn.relu, input_shape=[len(train_dataset.keys())]), \n",
    "    layers.Dense(64, activation=tf.nn.relu),     \n",
    "    layers.Dense(1)\n",
    "  ])\n",
    "\n",
    "    optimizer = tf.keras.optimizers.RMSprop(0.001)\n",
    "\n",
    "    model.compile(loss='mean_squared_error',\n",
    "                optimizer=optimizer,\n",
    "                metrics=['mean_absolute_error', 'mean_squared_error'])\n",
    "    return(model)"
   ]
  },
  {
   "cell_type": "code",
   "execution_count": 39,
   "metadata": {},
   "outputs": [],
   "source": [
    "model = build_model()"
   ]
  },
  {
   "cell_type": "code",
   "execution_count": 40,
   "metadata": {},
   "outputs": [
    {
     "name": "stdout",
     "output_type": "stream",
     "text": [
      "Model: \"sequential_1\"\n",
      "_________________________________________________________________\n",
      "Layer (type)                 Output Shape              Param #   \n",
      "=================================================================\n",
      "dense_3 (Dense)              (None, 64)                256       \n",
      "_________________________________________________________________\n",
      "dense_4 (Dense)              (None, 64)                4160      \n",
      "_________________________________________________________________\n",
      "dense_5 (Dense)              (None, 1)                 65        \n",
      "=================================================================\n",
      "Total params: 4,481\n",
      "Trainable params: 4,481\n",
      "Non-trainable params: 0\n",
      "_________________________________________________________________\n"
     ]
    }
   ],
   "source": [
    "model.summary()"
   ]
  },
  {
   "cell_type": "markdown",
   "metadata": {},
   "source": [
    "## Let's have an example output"
   ]
  },
  {
   "cell_type": "code",
   "execution_count": 41,
   "metadata": {},
   "outputs": [
    {
     "data": {
      "text/plain": [
       "array([[0.14863242],\n",
       "       [0.13380994],\n",
       "       [0.14032592],\n",
       "       [0.1351498 ],\n",
       "       [0.13044335],\n",
       "       [0.1396994 ],\n",
       "       [0.14249991],\n",
       "       [0.1372956 ],\n",
       "       [0.12774022],\n",
       "       [0.12715587]], dtype=float32)"
      ]
     },
     "execution_count": 41,
     "metadata": {},
     "output_type": "execute_result"
    }
   ],
   "source": [
    "example_batch = normed_train_data[:10]\n",
    "example_result = model.predict(example_batch)\n",
    "example_result"
   ]
  },
  {
   "cell_type": "markdown",
   "metadata": {},
   "source": [
    "## We are going to train the model with an early stopping function, to avoid overfitting."
   ]
  },
  {
   "cell_type": "code",
   "execution_count": 42,
   "metadata": {},
   "outputs": [
    {
     "name": "stdout",
     "output_type": "stream",
     "text": [
      "Train on 467985 samples, validate on 116997 samples\n",
      "Epoch 1/40\n",
      "467985/467985 [==============================] - 37s 78us/sample - loss: 23096.3823 - mean_absolute_error: 101.2123 - mean_squared_error: 23096.3379 - val_loss: 5585.8579 - val_mean_absolute_error: 74.3230 - val_mean_squared_error: 5585.8516\n",
      "Epoch 2/40\n",
      "467985/467985 [==============================] - 35s 76us/sample - loss: 22920.4070 - mean_absolute_error: 101.4007 - mean_squared_error: 22920.4199 - val_loss: 5059.8628 - val_mean_absolute_error: 70.0665 - val_mean_squared_error: 5059.8633\n",
      "Epoch 3/40\n",
      "467985/467985 [==============================] - 35s 75us/sample - loss: 22865.6212 - mean_absolute_error: 101.2452 - mean_squared_error: 22865.5352 - val_loss: 4851.9892 - val_mean_absolute_error: 68.2178 - val_mean_squared_error: 4851.9858\n",
      "Epoch 4/40\n",
      "467985/467985 [==============================] - 35s 76us/sample - loss: 22817.0725 - mean_absolute_error: 101.1239 - mean_squared_error: 22817.0898 - val_loss: 6169.0813 - val_mean_absolute_error: 76.7143 - val_mean_squared_error: 6169.0850\n",
      "Epoch 5/40\n",
      "467985/467985 [==============================] - 35s 76us/sample - loss: 22777.4601 - mean_absolute_error: 101.0317 - mean_squared_error: 22777.3984 - val_loss: 5066.0686 - val_mean_absolute_error: 69.2365 - val_mean_squared_error: 5066.0679\n",
      "Epoch 6/40\n",
      "467985/467985 [==============================] - 36s 76us/sample - loss: 22734.6536 - mean_absolute_error: 100.8993 - mean_squared_error: 22734.6777 - val_loss: 7483.5193 - val_mean_absolute_error: 84.0470 - val_mean_squared_error: 7483.5151\n",
      "Epoch 7/40\n",
      "467985/467985 [==============================] - 36s 77us/sample - loss: 22685.2306 - mean_absolute_error: 100.6989 - mean_squared_error: 22685.2031 - val_loss: 5439.4640 - val_mean_absolute_error: 70.8419 - val_mean_squared_error: 5439.4570\n",
      "Epoch 8/40\n",
      "467985/467985 [==============================] - 36s 76us/sample - loss: 22643.2052 - mean_absolute_error: 100.5236 - mean_squared_error: 22643.1328 - val_loss: 7177.5908 - val_mean_absolute_error: 81.3798 - val_mean_squared_error: 7177.5869\n",
      "Epoch 9/40\n",
      "467985/467985 [==============================] - 37s 80us/sample - loss: 22611.8348 - mean_absolute_error: 100.3802 - mean_squared_error: 22611.8027 - val_loss: 5813.3710 - val_mean_absolute_error: 73.7329 - val_mean_squared_error: 5813.3628\n",
      "Epoch 10/40\n",
      "467985/467985 [==============================] - 37s 78us/sample - loss: 22574.5279 - mean_absolute_error: 100.2439 - mean_squared_error: 22574.5605 - val_loss: 7909.9991 - val_mean_absolute_error: 84.4594 - val_mean_squared_error: 7909.9893\n",
      "Epoch 11/40\n",
      "467985/467985 [==============================] - 37s 80us/sample - loss: 22552.2903 - mean_absolute_error: 100.1536 - mean_squared_error: 22552.3398 - val_loss: 5165.8258 - val_mean_absolute_error: 67.4405 - val_mean_squared_error: 5165.8354\n",
      "Epoch 12/40\n",
      "467985/467985 [==============================] - 36s 78us/sample - loss: 22537.6255 - mean_absolute_error: 100.0432 - mean_squared_error: 22537.6211 - val_loss: 6027.8092 - val_mean_absolute_error: 73.1451 - val_mean_squared_error: 6027.8164\n",
      "Epoch 13/40\n",
      "467985/467985 [==============================] - 36s 78us/sample - loss: 22536.0480 - mean_absolute_error: 100.0442 - mean_squared_error: 22535.9863 - val_loss: 6034.3965 - val_mean_absolute_error: 73.7245 - val_mean_squared_error: 6034.4014\n"
     ]
    }
   ],
   "source": [
    "EPOCHS = 40\n",
    "early_stop = keras.callbacks.EarlyStopping(monitor='val_loss', patience=10)\n",
    "history = model.fit(\n",
    "  normed_train_data, train_labels,\n",
    "  epochs=EPOCHS, validation_split = 0.2,\n",
    "  callbacks=[early_stop])\n"
   ]
  },
  {
   "cell_type": "code",
   "execution_count": 48,
   "metadata": {},
   "outputs": [],
   "source": [
    "model.save('NeuralModel.h5')"
   ]
  },
  {
   "cell_type": "markdown",
   "metadata": {},
   "source": [
    "#### For some reason, the loss functions achieved extremely high values and did not improve with the batches. This is probably a regression model is not adequate for this situation, and also de data set has several repeated values."
   ]
  },
  {
   "cell_type": "markdown",
   "metadata": {},
   "source": [
    "## Plotting the results, we obtain"
   ]
  },
  {
   "cell_type": "code",
   "execution_count": 105,
   "metadata": {},
   "outputs": [
    {
     "data": {
      "image/png": "[encoded data removed]",
      "text/plain": [
       "<Figure size 432x288 with 1 Axes>"
      ]
     },
     "metadata": {
      "needs_background": "light"
     },
     "output_type": "display_data"
    },
    {
     "data": {
      "image/png": "[encoded data removed]",
      "text/plain": [
       "<Figure size 432x288 with 1 Axes>"
      ]
     },
     "metadata": {
      "needs_background": "light"
     },
     "output_type": "display_data"
    }
   ],
   "source": [
    "def plot_history(history):\n",
    "    hist = pd.DataFrame(history.history)\n",
    "    hist['epoch'] = history.epoch\n",
    "\n",
    "    plt.figure()\n",
    "    plt.xlabel('Epoch')\n",
    "    plt.ylabel('Mean Abs Error')\n",
    "    plt.plot(hist['epoch'], hist['mean_absolute_error'],\n",
    "           label='Train Error')\n",
    "    plt.plot(hist['epoch'], hist['val_mean_absolute_error'],\n",
    "           label = 'Val Error')\n",
    "    #plt.ylim([0.4,0.6])\n",
    "    plt.legend()\n",
    "    plt.savefig('history1.png')\n",
    "\n",
    "    plt.figure()\n",
    "    plt.xlabel('Epoch')\n",
    "    plt.ylabel('Mean Square Error')\n",
    "    plt.plot(hist['epoch'], hist['mean_squared_error'],\n",
    "           label='Train Error')\n",
    "    plt.plot(hist['epoch'], hist['val_mean_squared_error'],\n",
    "           label = 'Val Error')\n",
    "    #plt.ylim([0.9,1.1])\n",
    "    plt.legend()\n",
    "    plt.savefig('history2.png')\n",
    "    plt.show()\n",
    "\n",
    "\n",
    "plot_history(history)\n"
   ]
  },
  {
   "cell_type": "code",
   "execution_count": 44,
   "metadata": {},
   "outputs": [
    {
     "name": "stdout",
     "output_type": "stream",
     "text": [
      "Testing set Mean Abs Error: 72.75 por_habitante\n",
      "Testing set Mean Sqr Error: 6441.37 por_habitante\n"
     ]
    }
   ],
   "source": [
    "loss, mae, mse = model.evaluate(normed_test_data, test_labels, verbose=0)\n",
    "\n",
    "print(\"Testing set Mean Abs Error: {:5.2f} por_habitante\".format(mae))\n",
    "print(\"Testing set Mean Sqr Error: {:5.2f} por_habitante\".format(mse))"
   ]
  },
  {
   "cell_type": "code",
   "execution_count": 106,
   "metadata": {},
   "outputs": [
    {
     "data": {
      "text/plain": [
       "[<matplotlib.lines.Line2D at 0x7fb1d37c2278>]"
      ]
     },
     "execution_count": 106,
     "metadata": {},
     "output_type": "execute_result"
    },
    {
     "data": {
      "image/png": "[encoded data removed]",
      "text/plain": [
       "<Figure size 432x288 with 1 Axes>"
      ]
     },
     "metadata": {
      "needs_background": "light"
     },
     "output_type": "display_data"
    }
   ],
   "source": [
    "test_predictions = model.predict(normed_test_data).flatten()\n",
    "test = test_labels.reset_index(drop=True)\n",
    "predictions = pd.DataFrame(test_predictions)\n",
    "plt.plot(test[480000:500000])\n",
    "plt.plot(predictions[480000:500000])\n"
   ]
  }
 ],
 "metadata": {
  "kernelspec": {
   "display_name": "Python 3",
   "language": "python",
   "name": "python3"
  },
  "language_info": {
   "codemirror_mode": {
    "name": "ipython",
    "version": 3
   },
   "file_extension": ".py",
   "mimetype": "text/x-python",
   "name": "python",
   "nbconvert_exporter": "python",
   "pygments_lexer": "ipython3",
   "version": "3.6.8"
  }
 },
 "nbformat": 4,
 "nbformat_minor": 2
}
