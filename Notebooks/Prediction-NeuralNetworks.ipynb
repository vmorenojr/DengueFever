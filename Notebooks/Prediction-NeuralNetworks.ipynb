{
 "cells": [
  {
   "cell_type": "markdown",
   "metadata": {},
   "source": [
    "# Regression to predict Dengue Cases in Brazil"
   ]
  },
  {
   "cell_type": "markdown",
   "metadata": {},
   "source": [
    "### We explored neural networks to do a regression task and try to predict the dengue spread in Brazil."
   ]
  },
  {
   "cell_type": "code",
   "execution_count": 1,
   "metadata": {},
   "outputs": [],
   "source": [
    "from __future__ import absolute_import, division, print_function, unicode_literals\n",
    "import warnings\n",
    "warnings.filterwarnings('ignore')\n",
    "import pandas as pd\n",
    "import numpy as np\n",
    "import matplotlib.pyplot as plt\n",
    "np.random.seed(12345)\n",
    "import tensorflow as tf\n",
    "from tensorflow import keras\n",
    "from tensorflow.keras import layers\n"
   ]
  },
  {
   "cell_type": "markdown",
   "metadata": {},
   "source": [
    "### Let's load the data set"
   ]
  },
  {
   "cell_type": "code",
   "execution_count": 2,
   "metadata": {},
   "outputs": [],
   "source": [
    "df = pd.read_csv(\"./Dados/Datasets/Belo Horizonte.csv.gz\")"
   ]
  },
  {
   "cell_type": "code",
   "execution_count": 3,
   "metadata": {},
   "outputs": [
    {
     "data": {
      "text/html": [
       "<div>\n",
       "<style scoped>\n",
       "    .dataframe tbody tr th:only-of-type {\n",
       "        vertical-align: middle;\n",
       "    }\n",
       "\n",
       "    .dataframe tbody tr th {\n",
       "        vertical-align: top;\n",
       "    }\n",
       "\n",
       "    .dataframe thead th {\n",
       "        text-align: right;\n",
       "    }\n",
       "</style>\n",
       "<table border=\"1\" class=\"dataframe\">\n",
       "  <thead>\n",
       "    <tr style=\"text-align: right;\">\n",
       "      <th></th>\n",
       "      <th>capital</th>\n",
       "      <th>data_alvo</th>\n",
       "      <th>ocorrencias_alvo</th>\n",
       "      <th>por_habitante_alvo</th>\n",
       "      <th>municipio</th>\n",
       "      <th>dt_sintoma</th>\n",
       "      <th>lag</th>\n",
       "      <th>ocorrencias</th>\n",
       "      <th>por_habitante</th>\n",
       "      <th>distancia</th>\n",
       "    </tr>\n",
       "  </thead>\n",
       "  <tbody>\n",
       "    <tr>\n",
       "      <td>0</td>\n",
       "      <td>Belo Horizonte</td>\n",
       "      <td>2019-05-05</td>\n",
       "      <td>1168</td>\n",
       "      <td>46.279053</td>\n",
       "      <td>Aracaju</td>\n",
       "      <td>2016-05-01</td>\n",
       "      <td>157.0</td>\n",
       "      <td>24</td>\n",
       "      <td>3.772523</td>\n",
       "      <td>12.48</td>\n",
       "    </tr>\n",
       "    <tr>\n",
       "      <td>1</td>\n",
       "      <td>Belo Horizonte</td>\n",
       "      <td>2019-05-05</td>\n",
       "      <td>1168</td>\n",
       "      <td>46.279053</td>\n",
       "      <td>Aracaju</td>\n",
       "      <td>2016-05-08</td>\n",
       "      <td>156.0</td>\n",
       "      <td>40</td>\n",
       "      <td>6.286037</td>\n",
       "      <td>12.48</td>\n",
       "    </tr>\n",
       "    <tr>\n",
       "      <td>2</td>\n",
       "      <td>Belo Horizonte</td>\n",
       "      <td>2019-05-05</td>\n",
       "      <td>1168</td>\n",
       "      <td>46.279053</td>\n",
       "      <td>Aracaju</td>\n",
       "      <td>2016-05-15</td>\n",
       "      <td>155.0</td>\n",
       "      <td>21</td>\n",
       "      <td>3.299381</td>\n",
       "      <td>12.48</td>\n",
       "    </tr>\n",
       "    <tr>\n",
       "      <td>3</td>\n",
       "      <td>Belo Horizonte</td>\n",
       "      <td>2019-05-05</td>\n",
       "      <td>1168</td>\n",
       "      <td>46.279053</td>\n",
       "      <td>Aracaju</td>\n",
       "      <td>2016-05-22</td>\n",
       "      <td>154.0</td>\n",
       "      <td>35</td>\n",
       "      <td>5.497664</td>\n",
       "      <td>12.48</td>\n",
       "    </tr>\n",
       "    <tr>\n",
       "      <td>4</td>\n",
       "      <td>Belo Horizonte</td>\n",
       "      <td>2019-05-05</td>\n",
       "      <td>1168</td>\n",
       "      <td>46.279053</td>\n",
       "      <td>Aracaju</td>\n",
       "      <td>2016-05-29</td>\n",
       "      <td>153.0</td>\n",
       "      <td>31</td>\n",
       "      <td>4.868197</td>\n",
       "      <td>12.48</td>\n",
       "    </tr>\n",
       "    <tr>\n",
       "      <td>...</td>\n",
       "      <td>...</td>\n",
       "      <td>...</td>\n",
       "      <td>...</td>\n",
       "      <td>...</td>\n",
       "      <td>...</td>\n",
       "      <td>...</td>\n",
       "      <td>...</td>\n",
       "      <td>...</td>\n",
       "      <td>...</td>\n",
       "      <td>...</td>\n",
       "    </tr>\n",
       "    <tr>\n",
       "      <td>1106373</td>\n",
       "      <td>Belo Horizonte</td>\n",
       "      <td>2019-04-28</td>\n",
       "      <td>5683</td>\n",
       "      <td>225.203180</td>\n",
       "      <td>Vitória</td>\n",
       "      <td>2019-03-24</td>\n",
       "      <td>5.0</td>\n",
       "      <td>146</td>\n",
       "      <td>40.212963</td>\n",
       "      <td>3.78</td>\n",
       "    </tr>\n",
       "    <tr>\n",
       "      <td>1106374</td>\n",
       "      <td>Belo Horizonte</td>\n",
       "      <td>2019-04-28</td>\n",
       "      <td>5683</td>\n",
       "      <td>225.203180</td>\n",
       "      <td>Vitória</td>\n",
       "      <td>2019-03-31</td>\n",
       "      <td>4.0</td>\n",
       "      <td>204</td>\n",
       "      <td>56.176217</td>\n",
       "      <td>3.78</td>\n",
       "    </tr>\n",
       "    <tr>\n",
       "      <td>1106375</td>\n",
       "      <td>Belo Horizonte</td>\n",
       "      <td>2019-04-28</td>\n",
       "      <td>5683</td>\n",
       "      <td>225.203180</td>\n",
       "      <td>Vitória</td>\n",
       "      <td>2019-04-07</td>\n",
       "      <td>3.0</td>\n",
       "      <td>196</td>\n",
       "      <td>53.962083</td>\n",
       "      <td>3.78</td>\n",
       "    </tr>\n",
       "    <tr>\n",
       "      <td>1106376</td>\n",
       "      <td>Belo Horizonte</td>\n",
       "      <td>2019-04-28</td>\n",
       "      <td>5683</td>\n",
       "      <td>225.203180</td>\n",
       "      <td>Vitória</td>\n",
       "      <td>2019-04-14</td>\n",
       "      <td>2.0</td>\n",
       "      <td>180</td>\n",
       "      <td>49.546648</td>\n",
       "      <td>3.78</td>\n",
       "    </tr>\n",
       "    <tr>\n",
       "      <td>1106377</td>\n",
       "      <td>Belo Horizonte</td>\n",
       "      <td>2019-04-28</td>\n",
       "      <td>5683</td>\n",
       "      <td>225.203180</td>\n",
       "      <td>Vitória</td>\n",
       "      <td>2019-04-21</td>\n",
       "      <td>1.0</td>\n",
       "      <td>194</td>\n",
       "      <td>53.389254</td>\n",
       "      <td>3.78</td>\n",
       "    </tr>\n",
       "  </tbody>\n",
       "</table>\n",
       "<p>1106378 rows × 10 columns</p>\n",
       "</div>"
      ],
      "text/plain": [
       "                capital   data_alvo  ocorrencias_alvo  por_habitante_alvo  \\\n",
       "0        Belo Horizonte  2019-05-05              1168           46.279053   \n",
       "1        Belo Horizonte  2019-05-05              1168           46.279053   \n",
       "2        Belo Horizonte  2019-05-05              1168           46.279053   \n",
       "3        Belo Horizonte  2019-05-05              1168           46.279053   \n",
       "4        Belo Horizonte  2019-05-05              1168           46.279053   \n",
       "...                 ...         ...               ...                 ...   \n",
       "1106373  Belo Horizonte  2019-04-28              5683          225.203180   \n",
       "1106374  Belo Horizonte  2019-04-28              5683          225.203180   \n",
       "1106375  Belo Horizonte  2019-04-28              5683          225.203180   \n",
       "1106376  Belo Horizonte  2019-04-28              5683          225.203180   \n",
       "1106377  Belo Horizonte  2019-04-28              5683          225.203180   \n",
       "\n",
       "        municipio  dt_sintoma    lag  ocorrencias  por_habitante  distancia  \n",
       "0         Aracaju  2016-05-01  157.0           24       3.772523      12.48  \n",
       "1         Aracaju  2016-05-08  156.0           40       6.286037      12.48  \n",
       "2         Aracaju  2016-05-15  155.0           21       3.299381      12.48  \n",
       "3         Aracaju  2016-05-22  154.0           35       5.497664      12.48  \n",
       "4         Aracaju  2016-05-29  153.0           31       4.868197      12.48  \n",
       "...           ...         ...    ...          ...            ...        ...  \n",
       "1106373   Vitória  2019-03-24    5.0          146      40.212963       3.78  \n",
       "1106374   Vitória  2019-03-31    4.0          204      56.176217       3.78  \n",
       "1106375   Vitória  2019-04-07    3.0          196      53.962083       3.78  \n",
       "1106376   Vitória  2019-04-14    2.0          180      49.546648       3.78  \n",
       "1106377   Vitória  2019-04-21    1.0          194      53.389254       3.78  \n",
       "\n",
       "[1106378 rows x 10 columns]"
      ]
     },
     "execution_count": 3,
     "metadata": {},
     "output_type": "execute_result"
    }
   ],
   "source": [
    "df"
   ]
  },
  {
   "cell_type": "markdown",
   "metadata": {},
   "source": [
    "#### We are going to split the data into train and test data sets. The columns we'll use are: por_habitante_alvo, 'lag, por_habitante and distancia"
   ]
  },
  {
   "cell_type": "code",
   "execution_count": 4,
   "metadata": {},
   "outputs": [
    {
     "data": {
      "text/html": [
       "<div>\n",
       "<style scoped>\n",
       "    .dataframe tbody tr th:only-of-type {\n",
       "        vertical-align: middle;\n",
       "    }\n",
       "\n",
       "    .dataframe tbody tr th {\n",
       "        vertical-align: top;\n",
       "    }\n",
       "\n",
       "    .dataframe thead th {\n",
       "        text-align: right;\n",
       "    }\n",
       "</style>\n",
       "<table border=\"1\" class=\"dataframe\">\n",
       "  <thead>\n",
       "    <tr style=\"text-align: right;\">\n",
       "      <th></th>\n",
       "      <th>por_habitante_alvo</th>\n",
       "      <th>por_habitante</th>\n",
       "      <th>lag</th>\n",
       "      <th>distancia</th>\n",
       "    </tr>\n",
       "  </thead>\n",
       "  <tbody>\n",
       "    <tr>\n",
       "      <td>0</td>\n",
       "      <td>46.279053</td>\n",
       "      <td>3.772523</td>\n",
       "      <td>157.0</td>\n",
       "      <td>12.48</td>\n",
       "    </tr>\n",
       "    <tr>\n",
       "      <td>1</td>\n",
       "      <td>46.279053</td>\n",
       "      <td>6.286037</td>\n",
       "      <td>156.0</td>\n",
       "      <td>12.48</td>\n",
       "    </tr>\n",
       "    <tr>\n",
       "      <td>2</td>\n",
       "      <td>46.279053</td>\n",
       "      <td>3.299381</td>\n",
       "      <td>155.0</td>\n",
       "      <td>12.48</td>\n",
       "    </tr>\n",
       "    <tr>\n",
       "      <td>3</td>\n",
       "      <td>46.279053</td>\n",
       "      <td>5.497664</td>\n",
       "      <td>154.0</td>\n",
       "      <td>12.48</td>\n",
       "    </tr>\n",
       "    <tr>\n",
       "      <td>4</td>\n",
       "      <td>46.279053</td>\n",
       "      <td>4.868197</td>\n",
       "      <td>153.0</td>\n",
       "      <td>12.48</td>\n",
       "    </tr>\n",
       "    <tr>\n",
       "      <td>...</td>\n",
       "      <td>...</td>\n",
       "      <td>...</td>\n",
       "      <td>...</td>\n",
       "      <td>...</td>\n",
       "    </tr>\n",
       "    <tr>\n",
       "      <td>1106373</td>\n",
       "      <td>225.203180</td>\n",
       "      <td>40.212963</td>\n",
       "      <td>5.0</td>\n",
       "      <td>3.78</td>\n",
       "    </tr>\n",
       "    <tr>\n",
       "      <td>1106374</td>\n",
       "      <td>225.203180</td>\n",
       "      <td>56.176217</td>\n",
       "      <td>4.0</td>\n",
       "      <td>3.78</td>\n",
       "    </tr>\n",
       "    <tr>\n",
       "      <td>1106375</td>\n",
       "      <td>225.203180</td>\n",
       "      <td>53.962083</td>\n",
       "      <td>3.0</td>\n",
       "      <td>3.78</td>\n",
       "    </tr>\n",
       "    <tr>\n",
       "      <td>1106376</td>\n",
       "      <td>225.203180</td>\n",
       "      <td>49.546648</td>\n",
       "      <td>2.0</td>\n",
       "      <td>3.78</td>\n",
       "    </tr>\n",
       "    <tr>\n",
       "      <td>1106377</td>\n",
       "      <td>225.203180</td>\n",
       "      <td>53.389254</td>\n",
       "      <td>1.0</td>\n",
       "      <td>3.78</td>\n",
       "    </tr>\n",
       "  </tbody>\n",
       "</table>\n",
       "<p>1106378 rows × 4 columns</p>\n",
       "</div>"
      ],
      "text/plain": [
       "         por_habitante_alvo  por_habitante    lag  distancia\n",
       "0                 46.279053       3.772523  157.0      12.48\n",
       "1                 46.279053       6.286037  156.0      12.48\n",
       "2                 46.279053       3.299381  155.0      12.48\n",
       "3                 46.279053       5.497664  154.0      12.48\n",
       "4                 46.279053       4.868197  153.0      12.48\n",
       "...                     ...            ...    ...        ...\n",
       "1106373          225.203180      40.212963    5.0       3.78\n",
       "1106374          225.203180      56.176217    4.0       3.78\n",
       "1106375          225.203180      53.962083    3.0       3.78\n",
       "1106376          225.203180      49.546648    2.0       3.78\n",
       "1106377          225.203180      53.389254    1.0       3.78\n",
       "\n",
       "[1106378 rows x 4 columns]"
      ]
     },
     "execution_count": 4,
     "metadata": {},
     "output_type": "execute_result"
    }
   ],
   "source": [
    "train_data = df[['por_habitante_alvo','por_habitante','lag','distancia']]\n",
    "train_data"
   ]
  },
  {
   "cell_type": "code",
   "execution_count": 5,
   "metadata": {},
   "outputs": [
    {
     "data": {
      "text/html": [
       "<div>\n",
       "<style scoped>\n",
       "    .dataframe tbody tr th:only-of-type {\n",
       "        vertical-align: middle;\n",
       "    }\n",
       "\n",
       "    .dataframe tbody tr th {\n",
       "        vertical-align: top;\n",
       "    }\n",
       "\n",
       "    .dataframe thead th {\n",
       "        text-align: right;\n",
       "    }\n",
       "</style>\n",
       "<table border=\"1\" class=\"dataframe\">\n",
       "  <thead>\n",
       "    <tr style=\"text-align: right;\">\n",
       "      <th></th>\n",
       "      <th>por_habitante_alvo</th>\n",
       "      <th>por_habitante</th>\n",
       "      <th>lag</th>\n",
       "      <th>distancia</th>\n",
       "    </tr>\n",
       "  </thead>\n",
       "  <tbody>\n",
       "    <tr>\n",
       "      <td>612739</td>\n",
       "      <td>19.181732</td>\n",
       "      <td>4.953185</td>\n",
       "      <td>31.0</td>\n",
       "      <td>25.56</td>\n",
       "    </tr>\n",
       "    <tr>\n",
       "      <td>299690</td>\n",
       "      <td>3.247096</td>\n",
       "      <td>4.519876</td>\n",
       "      <td>22.0</td>\n",
       "      <td>24.77</td>\n",
       "    </tr>\n",
       "    <tr>\n",
       "      <td>429596</td>\n",
       "      <td>542.021636</td>\n",
       "      <td>5.513431</td>\n",
       "      <td>112.0</td>\n",
       "      <td>18.93</td>\n",
       "    </tr>\n",
       "    <tr>\n",
       "      <td>322720</td>\n",
       "      <td>4.055821</td>\n",
       "      <td>4.215090</td>\n",
       "      <td>71.0</td>\n",
       "      <td>31.17</td>\n",
       "    </tr>\n",
       "    <tr>\n",
       "      <td>1011058</td>\n",
       "      <td>5.682581</td>\n",
       "      <td>0.688661</td>\n",
       "      <td>21.0</td>\n",
       "      <td>14.39</td>\n",
       "    </tr>\n",
       "  </tbody>\n",
       "</table>\n",
       "</div>"
      ],
      "text/plain": [
       "         por_habitante_alvo  por_habitante    lag  distancia\n",
       "612739            19.181732       4.953185   31.0      25.56\n",
       "299690             3.247096       4.519876   22.0      24.77\n",
       "429596           542.021636       5.513431  112.0      18.93\n",
       "322720             4.055821       4.215090   71.0      31.17\n",
       "1011058            5.682581       0.688661   21.0      14.39"
      ]
     },
     "execution_count": 5,
     "metadata": {},
     "output_type": "execute_result"
    }
   ],
   "source": [
    "train_dataset = train_data.sample(frac=0.8)\n",
    "test_dataset = train_data.drop(train_dataset.index)\n",
    "train_dataset.head()"
   ]
  },
  {
   "cell_type": "markdown",
   "metadata": {},
   "source": [
    "### We are going to normalize the input."
   ]
  },
  {
   "cell_type": "code",
   "execution_count": 6,
   "metadata": {},
   "outputs": [
    {
     "data": {
      "text/html": [
       "<div>\n",
       "<style scoped>\n",
       "    .dataframe tbody tr th:only-of-type {\n",
       "        vertical-align: middle;\n",
       "    }\n",
       "\n",
       "    .dataframe tbody tr th {\n",
       "        vertical-align: top;\n",
       "    }\n",
       "\n",
       "    .dataframe thead th {\n",
       "        text-align: right;\n",
       "    }\n",
       "</style>\n",
       "<table border=\"1\" class=\"dataframe\">\n",
       "  <thead>\n",
       "    <tr style=\"text-align: right;\">\n",
       "      <th></th>\n",
       "      <th>count</th>\n",
       "      <th>mean</th>\n",
       "      <th>std</th>\n",
       "      <th>min</th>\n",
       "      <th>25%</th>\n",
       "      <th>50%</th>\n",
       "      <th>75%</th>\n",
       "      <th>max</th>\n",
       "    </tr>\n",
       "  </thead>\n",
       "  <tbody>\n",
       "    <tr>\n",
       "      <td>por_habitante</td>\n",
       "      <td>1106378.0</td>\n",
       "      <td>15.949661</td>\n",
       "      <td>41.611200</td>\n",
       "      <td>0.0</td>\n",
       "      <td>1.890014</td>\n",
       "      <td>4.716662</td>\n",
       "      <td>13.243189</td>\n",
       "      <td>711.541423</td>\n",
       "    </tr>\n",
       "    <tr>\n",
       "      <td>lag</td>\n",
       "      <td>1106378.0</td>\n",
       "      <td>79.000071</td>\n",
       "      <td>45.321057</td>\n",
       "      <td>1.0</td>\n",
       "      <td>40.000000</td>\n",
       "      <td>79.000000</td>\n",
       "      <td>118.000000</td>\n",
       "      <td>157.000000</td>\n",
       "    </tr>\n",
       "    <tr>\n",
       "      <td>distancia</td>\n",
       "      <td>1106378.0</td>\n",
       "      <td>14.451103</td>\n",
       "      <td>7.846408</td>\n",
       "      <td>0.0</td>\n",
       "      <td>8.200000</td>\n",
       "      <td>13.720000</td>\n",
       "      <td>19.320000</td>\n",
       "      <td>31.170000</td>\n",
       "    </tr>\n",
       "  </tbody>\n",
       "</table>\n",
       "</div>"
      ],
      "text/plain": [
       "                   count       mean        std  min        25%        50%  \\\n",
       "por_habitante  1106378.0  15.949661  41.611200  0.0   1.890014   4.716662   \n",
       "lag            1106378.0  79.000071  45.321057  1.0  40.000000  79.000000   \n",
       "distancia      1106378.0  14.451103   7.846408  0.0   8.200000  13.720000   \n",
       "\n",
       "                      75%         max  \n",
       "por_habitante   13.243189  711.541423  \n",
       "lag            118.000000  157.000000  \n",
       "distancia       19.320000   31.170000  "
      ]
     },
     "execution_count": 6,
     "metadata": {},
     "output_type": "execute_result"
    }
   ],
   "source": [
    "train_stats = train_data.describe()\n",
    "train_stats.pop('por_habitante_alvo')\n",
    "train_stats = train_stats.transpose()\n",
    "train_stats"
   ]
  },
  {
   "cell_type": "code",
   "execution_count": 7,
   "metadata": {},
   "outputs": [],
   "source": [
    "train_labels = train_dataset.pop('por_habitante_alvo')\n",
    "test_labels = test_dataset.pop('por_habitante_alvo')"
   ]
  },
  {
   "cell_type": "code",
   "execution_count": 8,
   "metadata": {},
   "outputs": [
    {
     "data": {
      "text/plain": [
       "612739      19.181732\n",
       "299690       3.247096\n",
       "429596     542.021636\n",
       "322720       4.055821\n",
       "1011058      5.682581\n",
       "Name: por_habitante_alvo, dtype: float64"
      ]
     },
     "execution_count": 8,
     "metadata": {},
     "output_type": "execute_result"
    }
   ],
   "source": [
    "train_labels.head()"
   ]
  },
  {
   "cell_type": "code",
   "execution_count": 9,
   "metadata": {},
   "outputs": [
    {
     "data": {
      "text/plain": [
       "0     46.279053\n",
       "2     46.279053\n",
       "3     46.279053\n",
       "13    46.279053\n",
       "17    46.279053\n",
       "Name: por_habitante_alvo, dtype: float64"
      ]
     },
     "execution_count": 9,
     "metadata": {},
     "output_type": "execute_result"
    }
   ],
   "source": [
    "test_labels.head()"
   ]
  },
  {
   "cell_type": "code",
   "execution_count": 10,
   "metadata": {},
   "outputs": [],
   "source": [
    "#Given a dataset, normalize it.\n",
    "def norm(x):\n",
    "    return (x - (train_stats['mean'])) / (train_stats['std'])\n",
    "            \n",
    "normed_train_data = norm(train_dataset)\n",
    "normed_test_data = norm(test_dataset)"
   ]
  },
  {
   "cell_type": "code",
   "execution_count": 11,
   "metadata": {},
   "outputs": [
    {
     "data": {
      "text/html": [
       "<div>\n",
       "<style scoped>\n",
       "    .dataframe tbody tr th:only-of-type {\n",
       "        vertical-align: middle;\n",
       "    }\n",
       "\n",
       "    .dataframe tbody tr th {\n",
       "        vertical-align: top;\n",
       "    }\n",
       "\n",
       "    .dataframe thead th {\n",
       "        text-align: right;\n",
       "    }\n",
       "</style>\n",
       "<table border=\"1\" class=\"dataframe\">\n",
       "  <thead>\n",
       "    <tr style=\"text-align: right;\">\n",
       "      <th></th>\n",
       "      <th>por_habitante</th>\n",
       "      <th>lag</th>\n",
       "      <th>distancia</th>\n",
       "    </tr>\n",
       "  </thead>\n",
       "  <tbody>\n",
       "    <tr>\n",
       "      <td>612739</td>\n",
       "      <td>-0.264267</td>\n",
       "      <td>-1.059112</td>\n",
       "      <td>1.415794</td>\n",
       "    </tr>\n",
       "    <tr>\n",
       "      <td>299690</td>\n",
       "      <td>-0.274680</td>\n",
       "      <td>-1.257695</td>\n",
       "      <td>1.315111</td>\n",
       "    </tr>\n",
       "    <tr>\n",
       "      <td>429596</td>\n",
       "      <td>-0.250803</td>\n",
       "      <td>0.728137</td>\n",
       "      <td>0.570821</td>\n",
       "    </tr>\n",
       "    <tr>\n",
       "      <td>322720</td>\n",
       "      <td>-0.282005</td>\n",
       "      <td>-0.176520</td>\n",
       "      <td>2.130771</td>\n",
       "    </tr>\n",
       "    <tr>\n",
       "      <td>1011058</td>\n",
       "      <td>-0.366752</td>\n",
       "      <td>-1.279760</td>\n",
       "      <td>-0.007787</td>\n",
       "    </tr>\n",
       "  </tbody>\n",
       "</table>\n",
       "</div>"
      ],
      "text/plain": [
       "         por_habitante       lag  distancia\n",
       "612739       -0.264267 -1.059112   1.415794\n",
       "299690       -0.274680 -1.257695   1.315111\n",
       "429596       -0.250803  0.728137   0.570821\n",
       "322720       -0.282005 -0.176520   2.130771\n",
       "1011058      -0.366752 -1.279760  -0.007787"
      ]
     },
     "execution_count": 11,
     "metadata": {},
     "output_type": "execute_result"
    }
   ],
   "source": [
    "normed_train_data.head()"
   ]
  },
  {
   "cell_type": "code",
   "execution_count": 12,
   "metadata": {},
   "outputs": [
    {
     "data": {
      "text/html": [
       "<div>\n",
       "<style scoped>\n",
       "    .dataframe tbody tr th:only-of-type {\n",
       "        vertical-align: middle;\n",
       "    }\n",
       "\n",
       "    .dataframe tbody tr th {\n",
       "        vertical-align: top;\n",
       "    }\n",
       "\n",
       "    .dataframe thead th {\n",
       "        text-align: right;\n",
       "    }\n",
       "</style>\n",
       "<table border=\"1\" class=\"dataframe\">\n",
       "  <thead>\n",
       "    <tr style=\"text-align: right;\">\n",
       "      <th></th>\n",
       "      <th>por_habitante</th>\n",
       "      <th>lag</th>\n",
       "      <th>distancia</th>\n",
       "    </tr>\n",
       "  </thead>\n",
       "  <tbody>\n",
       "    <tr>\n",
       "      <td>0</td>\n",
       "      <td>-0.292641</td>\n",
       "      <td>1.721053</td>\n",
       "      <td>-0.251211</td>\n",
       "    </tr>\n",
       "    <tr>\n",
       "      <td>2</td>\n",
       "      <td>-0.304011</td>\n",
       "      <td>1.676923</td>\n",
       "      <td>-0.251211</td>\n",
       "    </tr>\n",
       "    <tr>\n",
       "      <td>3</td>\n",
       "      <td>-0.251182</td>\n",
       "      <td>1.654858</td>\n",
       "      <td>-0.251211</td>\n",
       "    </tr>\n",
       "    <tr>\n",
       "      <td>13</td>\n",
       "      <td>-0.270324</td>\n",
       "      <td>1.434210</td>\n",
       "      <td>-0.251211</td>\n",
       "    </tr>\n",
       "    <tr>\n",
       "      <td>17</td>\n",
       "      <td>-0.315579</td>\n",
       "      <td>1.345951</td>\n",
       "      <td>-0.251211</td>\n",
       "    </tr>\n",
       "  </tbody>\n",
       "</table>\n",
       "</div>"
      ],
      "text/plain": [
       "    por_habitante       lag  distancia\n",
       "0       -0.292641  1.721053  -0.251211\n",
       "2       -0.304011  1.676923  -0.251211\n",
       "3       -0.251182  1.654858  -0.251211\n",
       "13      -0.270324  1.434210  -0.251211\n",
       "17      -0.315579  1.345951  -0.251211"
      ]
     },
     "execution_count": 12,
     "metadata": {},
     "output_type": "execute_result"
    }
   ],
   "source": [
    "normed_test_data.head()"
   ]
  },
  {
   "cell_type": "markdown",
   "metadata": {},
   "source": [
    "## Let's build the model. We are going to use a neural Dense network with 1 hidden layer."
   ]
  },
  {
   "cell_type": "code",
   "execution_count": 13,
   "metadata": {},
   "outputs": [],
   "source": [
    "def build_model():\n",
    "    model = keras.Sequential([\n",
    "    layers.Dense(64, activation=tf.nn.relu, input_shape=[len(train_dataset.keys())]), \n",
    "    layers.Dense(64, activation=tf.nn.relu),     \n",
    "    layers.Dense(1)\n",
    "  ])\n",
    "\n",
    "    optimizer = tf.keras.optimizers.RMSprop(0.001)\n",
    "\n",
    "    model.compile(loss='mean_squared_error',\n",
    "                optimizer=optimizer,\n",
    "                metrics=['mean_absolute_error', 'mean_squared_error'])\n",
    "    return(model)"
   ]
  },
  {
   "cell_type": "code",
   "execution_count": 14,
   "metadata": {},
   "outputs": [],
   "source": [
    "model = build_model()"
   ]
  },
  {
   "cell_type": "code",
   "execution_count": 15,
   "metadata": {},
   "outputs": [
    {
     "name": "stdout",
     "output_type": "stream",
     "text": [
      "Model: \"sequential\"\n",
      "_________________________________________________________________\n",
      "Layer (type)                 Output Shape              Param #   \n",
      "=================================================================\n",
      "dense (Dense)                (None, 64)                256       \n",
      "_________________________________________________________________\n",
      "dense_1 (Dense)              (None, 64)                4160      \n",
      "_________________________________________________________________\n",
      "dense_2 (Dense)              (None, 1)                 65        \n",
      "=================================================================\n",
      "Total params: 4,481\n",
      "Trainable params: 4,481\n",
      "Non-trainable params: 0\n",
      "_________________________________________________________________\n"
     ]
    }
   ],
   "source": [
    "model.summary()"
   ]
  },
  {
   "cell_type": "markdown",
   "metadata": {},
   "source": [
    "## Let's have an example output"
   ]
  },
  {
   "cell_type": "code",
   "execution_count": 17,
   "metadata": {},
   "outputs": [
    {
     "data": {
      "text/plain": [
       "array([[ 0.05770554],\n",
       "       [ 0.08139139],\n",
       "       [ 0.02089321],\n",
       "       [ 0.13539147],\n",
       "       [ 0.07058401],\n",
       "       [ 0.04358768],\n",
       "       [ 0.08727962],\n",
       "       [ 0.07945891],\n",
       "       [-0.00181973],\n",
       "       [ 0.0185976 ]], dtype=float32)"
      ]
     },
     "execution_count": 17,
     "metadata": {},
     "output_type": "execute_result"
    }
   ],
   "source": [
    "example_batch = normed_train_data[:10]\n",
    "example_result = model.predict(example_batch)\n",
    "example_result"
   ]
  },
  {
   "cell_type": "markdown",
   "metadata": {},
   "source": [
    "## We are going to train the model with an early stopping function, to avoid overfitting."
   ]
  },
  {
   "cell_type": "code",
   "execution_count": 18,
   "metadata": {},
   "outputs": [
    {
     "name": "stdout",
     "output_type": "stream",
     "text": [
      "Train on 708081 samples, validate on 177021 samples\n",
      "Epoch 1/40\n",
      "708081/708081 [==============================] - 55s 78us/sample - loss: 12002.0062 - mean_absolute_error: 59.7634 - mean_squared_error: 12002.0195 - val_loss: 12199.0043 - val_mean_absolute_error: 59.6586 - val_mean_squared_error: 12199.0107\n",
      "Epoch 2/40\n",
      "708081/708081 [==============================] - 55s 78us/sample - loss: 11962.5968 - mean_absolute_error: 59.9057 - mean_squared_error: 11962.6387 - val_loss: 12179.3137 - val_mean_absolute_error: 59.2143 - val_mean_squared_error: 12179.3232\n",
      "Epoch 3/40\n",
      "708081/708081 [==============================] - 55s 77us/sample - loss: 11954.0751 - mean_absolute_error: 59.8910 - mean_squared_error: 11954.0771 - val_loss: 12157.1300 - val_mean_absolute_error: 60.6406 - val_mean_squared_error: 12157.1328\n",
      "Epoch 4/40\n",
      "708081/708081 [==============================] - 55s 78us/sample - loss: 11947.1929 - mean_absolute_error: 59.8489 - mean_squared_error: 11947.1846 - val_loss: 12176.7883 - val_mean_absolute_error: 57.7526 - val_mean_squared_error: 12176.7949\n",
      "Epoch 5/40\n",
      "708081/708081 [==============================] - 55s 78us/sample - loss: 11940.7456 - mean_absolute_error: 59.8410 - mean_squared_error: 11940.7461 - val_loss: 12149.4225 - val_mean_absolute_error: 60.9939 - val_mean_squared_error: 12149.4072\n",
      "Epoch 6/40\n",
      "708081/708081 [==============================] - 55s 78us/sample - loss: 11928.6837 - mean_absolute_error: 59.7275 - mean_squared_error: 11928.6904 - val_loss: 12142.1737 - val_mean_absolute_error: 61.0187 - val_mean_squared_error: 12142.1768\n",
      "Epoch 7/40\n",
      "708081/708081 [==============================] - 56s 78us/sample - loss: 11932.0533 - mean_absolute_error: 59.6201 - mean_squared_error: 11931.9990 - val_loss: 12147.1687 - val_mean_absolute_error: 61.2471 - val_mean_squared_error: 12147.1807\n",
      "Epoch 8/40\n",
      "708081/708081 [==============================] - 56s 79us/sample - loss: 11929.1650 - mean_absolute_error: 59.6207 - mean_squared_error: 11929.1279 - val_loss: 12144.5325 - val_mean_absolute_error: 60.0328 - val_mean_squared_error: 12144.5264\n",
      "Epoch 9/40\n",
      "708081/708081 [==============================] - 56s 79us/sample - loss: 11927.7066 - mean_absolute_error: 59.7144 - mean_squared_error: 11927.7061 - val_loss: 12159.7734 - val_mean_absolute_error: 62.5389 - val_mean_squared_error: 12159.7695\n",
      "Epoch 10/40\n",
      "708081/708081 [==============================] - 56s 79us/sample - loss: 11928.3857 - mean_absolute_error: 59.6174 - mean_squared_error: 11928.3359 - val_loss: 12140.7679 - val_mean_absolute_error: 59.7421 - val_mean_squared_error: 12140.7725\n",
      "Epoch 11/40\n",
      "708081/708081 [==============================] - 55s 77us/sample - loss: 11922.1095 - mean_absolute_error: 59.4545 - mean_squared_error: 11922.0967 - val_loss: 12130.1602 - val_mean_absolute_error: 60.6823 - val_mean_squared_error: 12130.1387\n",
      "Epoch 12/40\n",
      "708081/708081 [==============================] - 55s 77us/sample - loss: 11907.4271 - mean_absolute_error: 59.3093 - mean_squared_error: 11907.4219 - val_loss: 12124.4256 - val_mean_absolute_error: 59.7174 - val_mean_squared_error: 12124.4248\n",
      "Epoch 13/40\n",
      "708081/708081 [==============================] - 55s 77us/sample - loss: 11892.7831 - mean_absolute_error: 59.3098 - mean_squared_error: 11892.8008 - val_loss: 12106.2840 - val_mean_absolute_error: 61.0937 - val_mean_squared_error: 12106.2852\n",
      "Epoch 14/40\n",
      "708081/708081 [==============================] - 55s 78us/sample - loss: 11895.8761 - mean_absolute_error: 59.4338 - mean_squared_error: 11895.8594 - val_loss: 12131.0148 - val_mean_absolute_error: 58.0647 - val_mean_squared_error: 12131.0186\n",
      "Epoch 15/40\n",
      "708081/708081 [==============================] - 55s 78us/sample - loss: 11897.4982 - mean_absolute_error: 59.3844 - mean_squared_error: 11897.5234 - val_loss: 12135.4348 - val_mean_absolute_error: 58.0284 - val_mean_squared_error: 12135.4287\n",
      "Epoch 16/40\n",
      "708081/708081 [==============================] - 55s 78us/sample - loss: 11897.3085 - mean_absolute_error: 59.3487 - mean_squared_error: 11897.3057 - val_loss: 12123.0718 - val_mean_absolute_error: 59.0497 - val_mean_squared_error: 12123.0771\n",
      "Epoch 17/40\n",
      "708081/708081 [==============================] - 55s 77us/sample - loss: 11908.9240 - mean_absolute_error: 59.3252 - mean_squared_error: 11908.9258 - val_loss: 12142.5700 - val_mean_absolute_error: 58.1169 - val_mean_squared_error: 12142.5684\n",
      "Epoch 18/40\n",
      "708081/708081 [==============================] - 55s 77us/sample - loss: 11917.0257 - mean_absolute_error: 59.5021 - mean_squared_error: 11917.0176 - val_loss: 12151.8899 - val_mean_absolute_error: 57.9072 - val_mean_squared_error: 12151.9092\n",
      "Epoch 19/40\n",
      "708081/708081 [==============================] - 55s 78us/sample - loss: 11911.6473 - mean_absolute_error: 59.4649 - mean_squared_error: 11911.6631 - val_loss: 12127.0186 - val_mean_absolute_error: 60.5215 - val_mean_squared_error: 12127.0137\n",
      "Epoch 20/40\n",
      "708081/708081 [==============================] - 55s 77us/sample - loss: 11913.0938 - mean_absolute_error: 59.6235 - mean_squared_error: 11913.1074 - val_loss: 12151.1611 - val_mean_absolute_error: 62.0692 - val_mean_squared_error: 12151.1602\n",
      "Epoch 21/40\n",
      "708081/708081 [==============================] - 55s 78us/sample - loss: 11927.3520 - mean_absolute_error: 59.6078 - mean_squared_error: 11927.3643 - val_loss: 12151.7122 - val_mean_absolute_error: 61.6775 - val_mean_squared_error: 12151.7031\n",
      "Epoch 22/40\n",
      "708081/708081 [==============================] - 55s 77us/sample - loss: 11925.9671 - mean_absolute_error: 59.5426 - mean_squared_error: 11925.9521 - val_loss: 12156.7973 - val_mean_absolute_error: 59.7761 - val_mean_squared_error: 12156.8018\n",
      "Epoch 23/40\n",
      "708081/708081 [==============================] - 55s 77us/sample - loss: 11938.2606 - mean_absolute_error: 59.6208 - mean_squared_error: 11938.2285 - val_loss: 12148.0526 - val_mean_absolute_error: 60.1048 - val_mean_squared_error: 12148.0566\n"
     ]
    }
   ],
   "source": [
    "EPOCHS = 40\n",
    "early_stop = keras.callbacks.EarlyStopping(monitor='val_loss', patience=10)\n",
    "history = model.fit(\n",
    "  normed_train_data, train_labels,\n",
    "  epochs=EPOCHS, validation_split = 0.2,\n",
    "  callbacks=[early_stop])\n"
   ]
  },
  {
   "cell_type": "markdown",
   "metadata": {},
   "source": [
    "#### For some reason, the loss functions achieved extremely high values and did not improve with the batches. This is probably a regression model is not adequate for this situation, and also de data set has several repeated values."
   ]
  },
  {
   "cell_type": "markdown",
   "metadata": {},
   "source": [
    "## Plotting the results, we obtain"
   ]
  },
  {
   "cell_type": "code",
   "execution_count": 19,
   "metadata": {},
   "outputs": [
    {
     "data": {
      "image/png": "[encoded data removed]",
      "text/plain": [
       "<Figure size 432x288 with 1 Axes>"
      ]
     },
     "metadata": {
      "needs_background": "light"
     },
     "output_type": "display_data"
    },
    {
     "data": {
      "image/png": "[encoded data removed]",
      "text/plain": [
       "<Figure size 432x288 with 1 Axes>"
      ]
     },
     "metadata": {
      "needs_background": "light"
     },
     "output_type": "display_data"
    }
   ],
   "source": [
    "def plot_history(history):\n",
    "    hist = pd.DataFrame(history.history)\n",
    "    hist['epoch'] = history.epoch\n",
    "\n",
    "    plt.figure()\n",
    "    plt.xlabel('Epoch')\n",
    "    plt.ylabel('Mean Abs Error [MPG]')\n",
    "    plt.plot(hist['epoch'], hist['mean_absolute_error'],\n",
    "           label='Train Error')\n",
    "    plt.plot(hist['epoch'], hist['val_mean_absolute_error'],\n",
    "           label = 'Val Error')\n",
    "    #plt.ylim([0.4,0.6])\n",
    "    plt.legend()\n",
    "\n",
    "    plt.figure()\n",
    "    plt.xlabel('Epoch')\n",
    "    plt.ylabel('Mean Square Error [$MPG^2$]')\n",
    "    plt.plot(hist['epoch'], hist['mean_squared_error'],\n",
    "           label='Train Error')\n",
    "    plt.plot(hist['epoch'], hist['val_mean_squared_error'],\n",
    "           label = 'Val Error')\n",
    "    #plt.ylim([0.9,1.1])\n",
    "    plt.legend()\n",
    "    plt.show()\n",
    "\n",
    "\n",
    "plot_history(history)"
   ]
  },
  {
   "cell_type": "code",
   "execution_count": 20,
   "metadata": {},
   "outputs": [
    {
     "name": "stdout",
     "output_type": "stream",
     "text": [
      "Testing set Mean Abs Error: 59.91 por_habitante\n",
      "Testing set Mean Sqr Error: 12061.12 por_habitante\n"
     ]
    }
   ],
   "source": [
    "loss, mae, mse = model.evaluate(normed_test_data, test_labels, verbose=0)\n",
    "\n",
    "print(\"Testing set Mean Abs Error: {:5.2f} por_habitante\".format(mae))\n",
    "print(\"Testing set Mean Sqr Error: {:5.2f} por_habitante\".format(mse))"
   ]
  },
  {
   "cell_type": "code",
   "execution_count": 52,
   "metadata": {},
   "outputs": [
    {
     "data": {
      "text/plain": [
       "(0, 688.3842895331757)"
      ]
     },
     "execution_count": 52,
     "metadata": {},
     "output_type": "execute_result"
    },
    {
     "data": {
      "image/png": "[encoded data removed]",
      "text/plain": [
       "<Figure size 432x288 with 1 Axes>"
      ]
     },
     "metadata": {
      "needs_background": "light"
     },
     "output_type": "display_data"
    }
   ],
   "source": [
    "test_predictions = model.predict(normed_test_data).flatten()\n",
    "\n",
    "plt.scatter(test_labels, test_predictions)\n",
    "plt.xlabel('Casos por 100k hab. (True Values)')\n",
    "plt.ylabel('Predictions')\n",
    "plt.axis('equal')\n",
    "plt.axis('square')\n",
    "plt.xlim([0,plt.xlim()[1]])\n",
    "plt.ylim([0,plt.ylim()[1]])\n",
    "#_ = plt.plot([25, 90], [40, 230])"
   ]
  }
 ],
 "metadata": {
  "kernelspec": {
   "display_name": "Python 3",
   "language": "python",
   "name": "python3"
  },
  "language_info": {
   "codemirror_mode": {
    "name": "ipython",
    "version": 3
   },
   "file_extension": ".py",
   "mimetype": "text/x-python",
   "name": "python",
   "nbconvert_exporter": "python",
   "pygments_lexer": "ipython3",
   "version": "3.6.8"
  }
 },
 "nbformat": 4,
 "nbformat_minor": 2
}
