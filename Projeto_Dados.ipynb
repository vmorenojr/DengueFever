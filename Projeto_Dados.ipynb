{
  "cells": [
    {
      "metadata": {
        "collapsed": true
      },
      "cell_type": "markdown",
      "source": "# Preparação de dados"
    },
    {
      "metadata": {},
      "cell_type": "markdown",
      "source": "## Importação de módulos"
    },
    {
      "metadata": {
        "trusted": true
      },
      "cell_type": "code",
      "source": "import datetime as dt\nimport pandas as pd\nimport numpy as np\nimport matplotlib\nimport matplotlib.pyplot as plt\n%matplotlib inline\nimport seaborn as sns\nsns.set_context(\"talk\")\nsns.set_style(\"white\")\n\nfrom IPython.display import HTML\nimport urllib\nimport bs4 #this is beautiful soup\nimport re # regular expressions",
      "execution_count": 29,
      "outputs": []
    },
    {
      "metadata": {},
      "cell_type": "markdown",
      "source": "## Leitura dos dados"
    },
    {
      "metadata": {
        "trusted": true
      },
      "cell_type": "code",
      "source": "dados = pd.read_csv('dengue_capitais.csv.gz')",
      "execution_count": 57,
      "outputs": []
    },
    {
      "metadata": {
        "trusted": true
      },
      "cell_type": "code",
      "source": "dados.head()",
      "execution_count": 58,
      "outputs": [
        {
          "output_type": "execute_result",
          "execution_count": 58,
          "data": {
            "text/html": "<div>\n<style scoped>\n    .dataframe tbody tr th:only-of-type {\n        vertical-align: middle;\n    }\n\n    .dataframe tbody tr th {\n        vertical-align: top;\n    }\n\n    .dataframe thead th {\n        text-align: right;\n    }\n</style>\n<table border=\"1\" class=\"dataframe\">\n  <thead>\n    <tr style=\"text-align: right;\">\n      <th></th>\n      <th>dt_notificacao</th>\n      <th>co_cid</th>\n      <th>co_municipio_notificacao</th>\n      <th>co_municipio_residencia</th>\n      <th>dt_diagnostico_sintoma</th>\n      <th>dt_digitacao</th>\n    </tr>\n  </thead>\n  <tbody>\n    <tr>\n      <th>0</th>\n      <td>2012-12-27 00:00:00</td>\n      <td>A90</td>\n      <td>110020</td>\n      <td>110020</td>\n      <td>2012-12-21 00:00:00</td>\n      <td>2013-02-22 00:00:00</td>\n    </tr>\n    <tr>\n      <th>1</th>\n      <td>2013-01-14 00:00:00</td>\n      <td>A90</td>\n      <td>110020</td>\n      <td>110020</td>\n      <td>2013-01-01 00:00:00</td>\n      <td>2013-02-22 00:00:00</td>\n    </tr>\n    <tr>\n      <th>2</th>\n      <td>2013-02-12 00:00:00</td>\n      <td>A90</td>\n      <td>500270</td>\n      <td>500270</td>\n      <td>2013-02-09 00:00:00</td>\n      <td>2013-02-23 00:00:00</td>\n    </tr>\n    <tr>\n      <th>3</th>\n      <td>2013-02-08 00:00:00</td>\n      <td>A90</td>\n      <td>520870</td>\n      <td>520870</td>\n      <td>2013-02-01 00:00:00</td>\n      <td>2013-03-01 00:00:00</td>\n    </tr>\n    <tr>\n      <th>4</th>\n      <td>2013-02-27 00:00:00</td>\n      <td>A90</td>\n      <td>431490</td>\n      <td>431490</td>\n      <td>2013-02-26 00:00:00</td>\n      <td>2013-02-27 00:00:00</td>\n    </tr>\n  </tbody>\n</table>\n</div>",
            "text/plain": "        dt_notificacao co_cid  co_municipio_notificacao  \\\n0  2012-12-27 00:00:00    A90                    110020   \n1  2013-01-14 00:00:00    A90                    110020   \n2  2013-02-12 00:00:00    A90                    500270   \n3  2013-02-08 00:00:00    A90                    520870   \n4  2013-02-27 00:00:00    A90                    431490   \n\n   co_municipio_residencia dt_diagnostico_sintoma         dt_digitacao  \n0                   110020    2012-12-21 00:00:00  2013-02-22 00:00:00  \n1                   110020    2013-01-01 00:00:00  2013-02-22 00:00:00  \n2                   500270    2013-02-09 00:00:00  2013-02-23 00:00:00  \n3                   520870    2013-02-01 00:00:00  2013-03-01 00:00:00  \n4                   431490    2013-02-26 00:00:00  2013-02-27 00:00:00  "
          },
          "metadata": {}
        }
      ]
    },
    {
      "metadata": {
        "trusted": true
      },
      "cell_type": "code",
      "source": "dados.dtypes",
      "execution_count": 59,
      "outputs": [
        {
          "output_type": "execute_result",
          "execution_count": 59,
          "data": {
            "text/plain": "dt_notificacao              object\nco_cid                      object\nco_municipio_notificacao     int64\nco_municipio_residencia      int64\ndt_diagnostico_sintoma      object\ndt_digitacao                object\ndtype: object"
          },
          "metadata": {}
        }
      ]
    },
    {
      "metadata": {
        "trusted": true
      },
      "cell_type": "code",
      "source": "dados.isnull().sum()",
      "execution_count": 121,
      "outputs": [
        {
          "output_type": "execute_result",
          "execution_count": 121,
          "data": {
            "text/plain": "dt_notificacao                 0\nco_cid                         0\nco_municipio_notificacao       0\nco_municipio_residencia        0\ndt_diagnostico_sintoma         8\ndt_digitacao                8335\ndtype: int64"
          },
          "metadata": {}
        }
      ]
    },
    {
      "metadata": {},
      "cell_type": "markdown",
      "source": "### Problema:\nO que fazer com os dados omitidos? Usar a data de notificação?"
    },
    {
      "metadata": {
        "trusted": true
      },
      "cell_type": "code",
      "source": "municipios = sorted(dados.co_municipio_notificacao.unique().tolist())\nresidencias = sorted(dados.co_municipio_residencia.unique().tolist())\n\nprint(type(municipios), len(municipios), type(residencias), len(residencias))",
      "execution_count": 96,
      "outputs": [
        {
          "output_type": "stream",
          "text": "<class 'list'> 2055 <class 'list'> 28\n",
          "name": "stdout"
        }
      ]
    },
    {
      "metadata": {},
      "cell_type": "markdown",
      "source": "### Problema: \nTemos 2055 municípios de notificação e apenas 28 de residência"
    },
    {
      "metadata": {
        "trusted": true
      },
      "cell_type": "code",
      "source": "data_notificacao = pd.to_datetime(dados.dt_notificacao, format = '%Y-%m-%d %H:%M:%S')\ndata_diagnostico = pd.to_datetime(dados.dt_diagnostico_sintoma, format = '%Y-%m-%d %H:%M:%S')\ndata_digitacao = pd.to_datetime(dados.dt_digitacao, format = '%Y-%m-%d %H:%M:%S')",
      "execution_count": 81,
      "outputs": []
    },
    {
      "metadata": {
        "trusted": true
      },
      "cell_type": "code",
      "source": "ano_notificacao = data_notificacao.dt.year\nsemana_notificacao = data_notificacao.dt.week",
      "execution_count": 98,
      "outputs": []
    },
    {
      "metadata": {
        "trusted": true
      },
      "cell_type": "code",
      "source": "ano_diagnostico = data_diagnostico.dt.year\nsemana_diagnostico = data_diagnostico.dt.week",
      "execution_count": 99,
      "outputs": []
    },
    {
      "metadata": {
        "trusted": true
      },
      "cell_type": "code",
      "source": "ano_digitacao = data_digitacao.dt.year\nsemana_digitacao = data_digitacao.dt.week",
      "execution_count": 100,
      "outputs": []
    },
    {
      "metadata": {
        "trusted": true
      },
      "cell_type": "code",
      "source": "dengue = {'ano_notificacao': ano_notificacao, \n          'semana_notificacao': semana_notificacao,\n          'ano_diagnostico': ano_digitacao,\n          'semana_diagnostico': semana_diagnostico,\n          'ano_digitacao': ano_digitacao,\n          'semana_digitacao': semana_digitacao,\n          'municipio': dados.co_municipio_notificacao,\n          'residencia': dados.co_municipio_residencia}",
      "execution_count": 108,
      "outputs": []
    },
    {
      "metadata": {
        "trusted": true
      },
      "cell_type": "code",
      "source": "ano_diagnostico.unique()",
      "execution_count": 119,
      "outputs": [
        {
          "output_type": "execute_result",
          "execution_count": 119,
          "data": {
            "text/plain": "array([2012., 2013., 2007., 2006., 2014., 2015., 1983., 2018., 2019.,\n       1988., 2001., 2016., 2017., 2004., 2009., 2008., 2005., 2010.,\n       2011., 1941., 1987., 1974., 1971., 1929., 1950., 2000., 1964.,\n       2003., 1981., 1966., 1999., 1980., 1977., 1952., 1985., 1978.,\n       1997., 1956., 1990., 1992., 1945., 1975., 1994., 1996., 1993.,\n       1986., 1989., 1967., 2002., 1991., 1955., 1972., 1973., 1961.,\n       1979., 1984., 1940., 1960., 1969., 1934., 1995., 1954., 1976.,\n       1968., 1970., 1982., 1947., 1998., 1944., 1949., 1951., 1936.,\n       1958., 1965., 1927., 1963., 1962., 1959., 1957., 1938., 1946.,\n       1948., 1953., 1943., 1937., 1931.,   nan, 1942., 1939., 1935.,\n       1932., 1926., 1915., 1922., 1911., 1933., 1923., 1921.])"
          },
          "metadata": {}
        }
      ]
    },
    {
      "metadata": {
        "trusted": true
      },
      "cell_type": "code",
      "source": "semana_diagnostico.unique()",
      "execution_count": 115,
      "outputs": [
        {
          "output_type": "execute_result",
          "execution_count": 115,
          "data": {
            "text/plain": "array([51.,  1.,  6.,  5.,  9.,  3.,  4.,  8.,  7., 40.,  2., 12., 10.,\n       42., 11., 23., 33., 35., 19., 31., 32., 21., 15., 18., 43., 45.,\n       29., 14., 44., 41., 48., 47., 22., 49., 27., 46., 50., 13., 28.,\n       16., 17., 38., 34., 36., 37., 20., 52., 53., 24., 39., 30., 26.,\n       25., nan])"
          },
          "metadata": {}
        }
      ]
    },
    {
      "metadata": {
        "trusted": true
      },
      "cell_type": "code",
      "source": "ano_digitacao.unique()",
      "execution_count": 116,
      "outputs": [
        {
          "output_type": "execute_result",
          "execution_count": 116,
          "data": {
            "text/plain": "array([2013., 2007., 2014., 2015., 2018., 2019., 2012., 2016., 2017.,\n         nan, 2009., 2008., 2010., 2011., 2025., 2024., 2020., 2021.])"
          },
          "metadata": {}
        }
      ]
    },
    {
      "metadata": {
        "trusted": true
      },
      "cell_type": "code",
      "source": "dengue = pd.DataFrame(dengue)\ndengue.head()",
      "execution_count": 109,
      "outputs": [
        {
          "output_type": "execute_result",
          "execution_count": 109,
          "data": {
            "text/html": "<div>\n<style scoped>\n    .dataframe tbody tr th:only-of-type {\n        vertical-align: middle;\n    }\n\n    .dataframe tbody tr th {\n        vertical-align: top;\n    }\n\n    .dataframe thead th {\n        text-align: right;\n    }\n</style>\n<table border=\"1\" class=\"dataframe\">\n  <thead>\n    <tr style=\"text-align: right;\">\n      <th></th>\n      <th>ano_notificacao</th>\n      <th>semana_notificacao</th>\n      <th>ano_diagnostico</th>\n      <th>semana_diagnostico</th>\n      <th>ano_digitacao</th>\n      <th>semana_digitacao</th>\n      <th>municipio</th>\n      <th>residencia</th>\n    </tr>\n  </thead>\n  <tbody>\n    <tr>\n      <th>0</th>\n      <td>2012</td>\n      <td>52</td>\n      <td>2013.0</td>\n      <td>51.0</td>\n      <td>2013.0</td>\n      <td>8.0</td>\n      <td>110020</td>\n      <td>110020</td>\n    </tr>\n    <tr>\n      <th>1</th>\n      <td>2013</td>\n      <td>3</td>\n      <td>2013.0</td>\n      <td>1.0</td>\n      <td>2013.0</td>\n      <td>8.0</td>\n      <td>110020</td>\n      <td>110020</td>\n    </tr>\n    <tr>\n      <th>2</th>\n      <td>2013</td>\n      <td>7</td>\n      <td>2013.0</td>\n      <td>6.0</td>\n      <td>2013.0</td>\n      <td>8.0</td>\n      <td>500270</td>\n      <td>500270</td>\n    </tr>\n    <tr>\n      <th>3</th>\n      <td>2013</td>\n      <td>6</td>\n      <td>2013.0</td>\n      <td>5.0</td>\n      <td>2013.0</td>\n      <td>9.0</td>\n      <td>520870</td>\n      <td>520870</td>\n    </tr>\n    <tr>\n      <th>4</th>\n      <td>2013</td>\n      <td>9</td>\n      <td>2013.0</td>\n      <td>9.0</td>\n      <td>2013.0</td>\n      <td>9.0</td>\n      <td>431490</td>\n      <td>431490</td>\n    </tr>\n  </tbody>\n</table>\n</div>",
            "text/plain": "   ano_notificacao  semana_notificacao  ano_diagnostico  semana_diagnostico  \\\n0             2012                  52           2013.0                51.0   \n1             2013                   3           2013.0                 1.0   \n2             2013                   7           2013.0                 6.0   \n3             2013                   6           2013.0                 5.0   \n4             2013                   9           2013.0                 9.0   \n\n   ano_digitacao  semana_digitacao  municipio  residencia  \n0         2013.0               8.0     110020      110020  \n1         2013.0               8.0     110020      110020  \n2         2013.0               8.0     500270      500270  \n3         2013.0               9.0     520870      520870  \n4         2013.0               9.0     431490      431490  "
          },
          "metadata": {}
        }
      ]
    },
    {
      "metadata": {
        "trusted": true
      },
      "cell_type": "code",
      "source": "dengue.info()",
      "execution_count": 110,
      "outputs": [
        {
          "output_type": "stream",
          "text": "<class 'pandas.core.frame.DataFrame'>\nRangeIndex: 3684688 entries, 0 to 3684687\nData columns (total 8 columns):\nano_notificacao       int64\nsemana_notificacao    int64\nano_diagnostico       float64\nsemana_diagnostico    float64\nano_digitacao         float64\nsemana_digitacao      float64\nmunicipio             int64\nresidencia            int64\ndtypes: float64(4), int64(4)\nmemory usage: 224.9 MB\n",
          "name": "stdout"
        }
      ]
    },
    {
      "metadata": {
        "trusted": true
      },
      "cell_type": "code",
      "source": "",
      "execution_count": null,
      "outputs": []
    }
  ],
  "metadata": {
    "kernelspec": {
      "name": "python36",
      "display_name": "Python 3.6",
      "language": "python"
    },
    "language_info": {
      "mimetype": "text/x-python",
      "nbconvert_exporter": "python",
      "name": "python",
      "pygments_lexer": "ipython3",
      "version": "3.6.6",
      "file_extension": ".py",
      "codemirror_mode": {
        "version": 3,
        "name": "ipython"
      }
    }
  },
  "nbformat": 4,
  "nbformat_minor": 2
}